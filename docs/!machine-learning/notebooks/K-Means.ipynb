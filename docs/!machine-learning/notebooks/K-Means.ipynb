{
 "cells": [
  {
   "cell_type": "code",
   "execution_count": 2,
   "metadata": {},
   "outputs": [],
   "source": [
    "import pandas as pd\n",
    "import numpy as np\n",
    "import matplotlib.pyplot as plt"
   ]
  },
  {
   "cell_type": "markdown",
   "metadata": {},
   "source": [
    "## Load data"
   ]
  },
  {
   "cell_type": "code",
   "execution_count": 3,
   "metadata": {},
   "outputs": [
    {
     "data": {
      "text/plain": [
       "(19, 2)"
      ]
     },
     "execution_count": 3,
     "metadata": {},
     "output_type": "execute_result"
    }
   ],
   "source": [
    "df = pd.DataFrame(data=[\n",
    "    [12,39],\n",
    "    [20,39],\n",
    "    [28,30],\n",
    "    [18,52],\n",
    "    [29,54],\n",
    "    [33,46],\n",
    "    [24,55],\n",
    "    [45,99],\n",
    "    [45,63],\n",
    "    [52,70],\n",
    "    [51,66],\n",
    "    [52,63],\n",
    "    [55,58],\n",
    "    [53,23],\n",
    "    [55,14],\n",
    "    [61, 8],\n",
    "    [64,19],\n",
    "    [69, 7],\n",
    "    [72,24]\n",
    "], columns=['x', 'y'])\n",
    "df.shape"
   ]
  },
  {
   "cell_type": "code",
   "execution_count": 4,
   "metadata": {},
   "outputs": [
    {
     "data": {
      "text/plain": [
       "<matplotlib.collections.PathCollection at 0x7f97a39de780>"
      ]
     },
     "execution_count": 4,
     "metadata": {},
     "output_type": "execute_result"
    },
    {
     "data": {
      "image/png": "[encoded data removed]",
      "text/plain": [
       "<Figure size 432x288 with 1 Axes>"
      ]
     },
     "metadata": {
      "needs_background": "light"
     },
     "output_type": "display_data"
    }
   ],
   "source": [
    "plt.scatter(df['x'], df['y'])"
   ]
  },
  {
   "cell_type": "markdown",
   "metadata": {},
   "source": [
    "## From scratch\n",
    "\n",
    "### Create centroids"
   ]
  },
  {
   "cell_type": "code",
   "execution_count": 5,
   "metadata": {},
   "outputs": [
    {
     "data": {
      "text/plain": [
       "{1: [38, 23], 2: [16, 49], 3: [67, 83]}"
      ]
     },
     "execution_count": 5,
     "metadata": {},
     "output_type": "execute_result"
    }
   ],
   "source": [
    "np.random.seed(200)\n",
    "k=3\n",
    "centroids={}\n",
    "\n",
    "for i in range(k):\n",
    "    centroids[i+1] = [\n",
    "        np.random.randint(df.x.min(),df.x.max()),\n",
    "        np.random.randint(df.y.min(),df.y.max())\n",
    "    ]\n",
    "centroids"
   ]
  },
  {
   "cell_type": "code",
   "execution_count": 6,
   "metadata": {},
   "outputs": [
    {
     "data": {
      "image/png": "[encoded data removed]",
      "text/plain": [
       "<Figure size 360x360 with 1 Axes>"
      ]
     },
     "metadata": {
      "needs_background": "light"
     },
     "output_type": "display_data"
    }
   ],
   "source": [
    "# Plot the data points with centroids\n",
    "fig = plt.figure(figsize=(5,5))\n",
    "plt.scatter(df['x'], df['y'], color='k')\n",
    "\n",
    "colmap = {1: 'r', 2: 'y', 3: 'b'}\n",
    "for i in centroids.keys():\n",
    "    plt.scatter(*centroids[i], color=colmap[i], marker='s')\n",
    "\n",
    "plt.show()"
   ]
  },
  {
   "cell_type": "markdown",
   "metadata": {},
   "source": [
    "### Assign data points to centroids"
   ]
  },
  {
   "cell_type": "code",
   "execution_count": 7,
   "metadata": {},
   "outputs": [
    {
     "data": {
      "text/html": [
       "<div>\n",
       "<style scoped>\n",
       "    .dataframe tbody tr th:only-of-type {\n",
       "        vertical-align: middle;\n",
       "    }\n",
       "\n",
       "    .dataframe tbody tr th {\n",
       "        vertical-align: top;\n",
       "    }\n",
       "\n",
       "    .dataframe thead th {\n",
       "        text-align: right;\n",
       "    }\n",
       "</style>\n",
       "<table border=\"1\" class=\"dataframe\">\n",
       "  <thead>\n",
       "    <tr style=\"text-align: right;\">\n",
       "      <th></th>\n",
       "      <th>x</th>\n",
       "      <th>y</th>\n",
       "      <th>distance_from_1</th>\n",
       "      <th>distance_from_2</th>\n",
       "      <th>distance_from_3</th>\n",
       "    </tr>\n",
       "  </thead>\n",
       "  <tbody>\n",
       "    <tr>\n",
       "      <th>0</th>\n",
       "      <td>12</td>\n",
       "      <td>39</td>\n",
       "      <td>30.528675</td>\n",
       "      <td>10.770330</td>\n",
       "      <td>70.434367</td>\n",
       "    </tr>\n",
       "    <tr>\n",
       "      <th>1</th>\n",
       "      <td>20</td>\n",
       "      <td>39</td>\n",
       "      <td>24.083189</td>\n",
       "      <td>10.770330</td>\n",
       "      <td>64.381674</td>\n",
       "    </tr>\n",
       "    <tr>\n",
       "      <th>2</th>\n",
       "      <td>28</td>\n",
       "      <td>30</td>\n",
       "      <td>12.206556</td>\n",
       "      <td>22.472205</td>\n",
       "      <td>65.802736</td>\n",
       "    </tr>\n",
       "    <tr>\n",
       "      <th>3</th>\n",
       "      <td>18</td>\n",
       "      <td>52</td>\n",
       "      <td>35.227830</td>\n",
       "      <td>3.605551</td>\n",
       "      <td>57.982756</td>\n",
       "    </tr>\n",
       "    <tr>\n",
       "      <th>4</th>\n",
       "      <td>29</td>\n",
       "      <td>54</td>\n",
       "      <td>32.280025</td>\n",
       "      <td>13.928388</td>\n",
       "      <td>47.801674</td>\n",
       "    </tr>\n",
       "  </tbody>\n",
       "</table>\n",
       "</div>"
      ],
      "text/plain": [
       "    x   y  distance_from_1  distance_from_2  distance_from_3\n",
       "0  12  39        30.528675        10.770330        70.434367\n",
       "1  20  39        24.083189        10.770330        64.381674\n",
       "2  28  30        12.206556        22.472205        65.802736\n",
       "3  18  52        35.227830         3.605551        57.982756\n",
       "4  29  54        32.280025        13.928388        47.801674"
      ]
     },
     "execution_count": 7,
     "metadata": {},
     "output_type": "execute_result"
    }
   ],
   "source": [
    "def compute_distance():\n",
    "    for i in centroids.keys():\n",
    "\n",
    "        distance = np.sqrt(\n",
    "           (df['x']-centroids[i][0])**2\n",
    "         + (df['y']-centroids[i][1])**2\n",
    "        )\n",
    "        df['distance_from_{}'.format(i)] = distance\n",
    "\n",
    "compute_distance()\n",
    "df.head()"
   ]
  },
  {
   "cell_type": "code",
   "execution_count": 8,
   "metadata": {},
   "outputs": [
    {
     "data": {
      "text/plain": [
       "['distance_from_1', 'distance_from_2', 'distance_from_3']"
      ]
     },
     "execution_count": 8,
     "metadata": {},
     "output_type": "execute_result"
    }
   ],
   "source": [
    "cols = ['distance_from_{}'.format(i) for i in centroids.keys()]\n",
    "cols"
   ]
  },
  {
   "cell_type": "code",
   "execution_count": 9,
   "metadata": {},
   "outputs": [
    {
     "data": {
      "text/html": [
       "<div>\n",
       "<style scoped>\n",
       "    .dataframe tbody tr th:only-of-type {\n",
       "        vertical-align: middle;\n",
       "    }\n",
       "\n",
       "    .dataframe tbody tr th {\n",
       "        vertical-align: top;\n",
       "    }\n",
       "\n",
       "    .dataframe thead th {\n",
       "        text-align: right;\n",
       "    }\n",
       "</style>\n",
       "<table border=\"1\" class=\"dataframe\">\n",
       "  <thead>\n",
       "    <tr style=\"text-align: right;\">\n",
       "      <th></th>\n",
       "      <th>x</th>\n",
       "      <th>y</th>\n",
       "      <th>distance_from_1</th>\n",
       "      <th>distance_from_2</th>\n",
       "      <th>distance_from_3</th>\n",
       "      <th>closest</th>\n",
       "    </tr>\n",
       "  </thead>\n",
       "  <tbody>\n",
       "    <tr>\n",
       "      <th>0</th>\n",
       "      <td>12</td>\n",
       "      <td>39</td>\n",
       "      <td>30.528675</td>\n",
       "      <td>10.770330</td>\n",
       "      <td>70.434367</td>\n",
       "      <td>2</td>\n",
       "    </tr>\n",
       "    <tr>\n",
       "      <th>1</th>\n",
       "      <td>20</td>\n",
       "      <td>39</td>\n",
       "      <td>24.083189</td>\n",
       "      <td>10.770330</td>\n",
       "      <td>64.381674</td>\n",
       "      <td>2</td>\n",
       "    </tr>\n",
       "    <tr>\n",
       "      <th>2</th>\n",
       "      <td>28</td>\n",
       "      <td>30</td>\n",
       "      <td>12.206556</td>\n",
       "      <td>22.472205</td>\n",
       "      <td>65.802736</td>\n",
       "      <td>1</td>\n",
       "    </tr>\n",
       "    <tr>\n",
       "      <th>3</th>\n",
       "      <td>18</td>\n",
       "      <td>52</td>\n",
       "      <td>35.227830</td>\n",
       "      <td>3.605551</td>\n",
       "      <td>57.982756</td>\n",
       "      <td>2</td>\n",
       "    </tr>\n",
       "    <tr>\n",
       "      <th>4</th>\n",
       "      <td>29</td>\n",
       "      <td>54</td>\n",
       "      <td>32.280025</td>\n",
       "      <td>13.928388</td>\n",
       "      <td>47.801674</td>\n",
       "      <td>2</td>\n",
       "    </tr>\n",
       "  </tbody>\n",
       "</table>\n",
       "</div>"
      ],
      "text/plain": [
       "    x   y  distance_from_1  distance_from_2  distance_from_3 closest\n",
       "0  12  39        30.528675        10.770330        70.434367       2\n",
       "1  20  39        24.083189        10.770330        64.381674       2\n",
       "2  28  30        12.206556        22.472205        65.802736       1\n",
       "3  18  52        35.227830         3.605551        57.982756       2\n",
       "4  29  54        32.280025        13.928388        47.801674       2"
      ]
     },
     "execution_count": 9,
     "metadata": {},
     "output_type": "execute_result"
    }
   ],
   "source": [
    "def assign_centroids():\n",
    "    df['closest'] = df[cols].idxmin(axis=1) \\\n",
    "                            .str.replace('distance_from_', '')\n",
    "\n",
    "assign_centroids()\n",
    "df.head()"
   ]
  },
  {
   "cell_type": "code",
   "execution_count": 10,
   "metadata": {},
   "outputs": [
    {
     "data": {
      "image/png": "[encoded data removed]",
      "text/plain": [
       "<Figure size 360x360 with 1 Axes>"
      ]
     },
     "metadata": {
      "needs_background": "light"
     },
     "output_type": "display_data"
    }
   ],
   "source": [
    "# Plot classified data points\n",
    "def plot_df():\n",
    "    fig = plt.figure(figsize=(5,5))\n",
    "\n",
    "    plt.scatter(\n",
    "        df['x'],\n",
    "        df['y'],\n",
    "        color=df['closest'].map(lambda x: colmap[int(x)]),\n",
    "        alpha=0.5)\n",
    "\n",
    "    # Plot centroids\n",
    "    for i in centroids.keys():\n",
    "        plt.scatter(*centroids[i], color=colmap[i], marker='s')\n",
    "\n",
    "plot_df()"
   ]
  },
  {
   "cell_type": "markdown",
   "metadata": {},
   "source": [
    "### Update centroids position"
   ]
  },
  {
   "cell_type": "code",
   "execution_count": 11,
   "metadata": {},
   "outputs": [
    {
     "data": {
      "text/plain": [
       "{1: [57.42857142857143, 17.857142857142858],\n",
       " 2: [22.666666666666668, 47.5],\n",
       " 3: [50.0, 69.83333333333333]}"
      ]
     },
     "execution_count": 11,
     "metadata": {},
     "output_type": "execute_result"
    }
   ],
   "source": [
    "def update_centroids():\n",
    "    for i in centroids.keys():\n",
    "        points = df[df['closest'] == str(i)]\n",
    "\n",
    "        centroids[i][0] = np.mean(points['x'])\n",
    "        centroids[i][1] = np.mean(points['y'])\n",
    "\n",
    "update_centroids()\n",
    "centroids"
   ]
  },
  {
   "cell_type": "code",
   "execution_count": 12,
   "metadata": {},
   "outputs": [
    {
     "data": {
      "image/png": "[encoded data removed]",
      "text/plain": [
       "<Figure size 360x360 with 1 Axes>"
      ]
     },
     "metadata": {
      "needs_background": "light"
     },
     "output_type": "display_data"
    }
   ],
   "source": [
    "plot_df()"
   ]
  },
  {
   "cell_type": "markdown",
   "metadata": {},
   "source": [
    "### Repeat\n",
    "\n",
    "Until centroids don't move anymore"
   ]
  },
  {
   "cell_type": "code",
   "execution_count": 13,
   "metadata": {},
   "outputs": [
    {
     "name": "stdout",
     "output_type": "stream",
     "text": [
      "KNN converged after 1 iteration(s)\n"
     ]
    },
    {
     "data": {
      "text/plain": [
       "{1: [62.333333333333336, 15.833333333333334],\n",
       " 2: [23.428571428571427, 45.0],\n",
       " 3: [50.0, 69.83333333333333]}"
      ]
     },
     "execution_count": 13,
     "metadata": {},
     "output_type": "execute_result"
    }
   ],
   "source": [
    "i = 0 \n",
    "while True:\n",
    "    compute_distance()\n",
    "\n",
    "    before = df['closest'].copy()\n",
    "    assign_centroids()\n",
    "\n",
    "    if (df['closest'] != before).sum() == 0:\n",
    "        break\n",
    "    if i == 100:\n",
    "        break\n",
    "\n",
    "    update_centroids()\n",
    "    i += 1\n",
    "\n",
    "print('KNN converged after {:d} iteration(s)'.format(i))\n",
    "centroids"
   ]
  },
  {
   "cell_type": "code",
   "execution_count": 14,
   "metadata": {},
   "outputs": [
    {
     "data": {
      "image/png": "[encoded data removed]",
      "text/plain": [
       "<Figure size 360x360 with 1 Axes>"
      ]
     },
     "metadata": {
      "needs_background": "light"
     },
     "output_type": "display_data"
    }
   ],
   "source": [
    "plot_df()"
   ]
  },
  {
   "cell_type": "markdown",
   "metadata": {},
   "source": [
    "## Using sklearn"
   ]
  },
  {
   "cell_type": "code",
   "execution_count": 15,
   "metadata": {},
   "outputs": [],
   "source": [
    "from sklearn.cluster import KMeans"
   ]
  },
  {
   "cell_type": "code",
   "execution_count": 16,
   "metadata": {},
   "outputs": [
    {
     "data": {
      "text/plain": [
       "array([[62.33333333, 15.83333333],\n",
       "       [23.42857143, 45.        ],\n",
       "       [50.        , 69.83333333]])"
      ]
     },
     "execution_count": 16,
     "metadata": {},
     "output_type": "execute_result"
    }
   ],
   "source": [
    "X = df[['x', 'y']]\n",
    "\n",
    "kmeans = KMeans(n_clusters=3, max_iter=100)\n",
    "kmeans.fit(X)\n",
    "kmeans.cluster_centers_"
   ]
  },
  {
   "cell_type": "code",
   "execution_count": 17,
   "metadata": {},
   "outputs": [
    {
     "data": {
      "text/plain": [
       "array([1, 1, 1, 1, 1, 1, 1, 2, 2, 2, 2, 2, 2, 0, 0, 0, 0, 0, 0],\n",
       "      dtype=int32)"
      ]
     },
     "execution_count": 17,
     "metadata": {},
     "output_type": "execute_result"
    }
   ],
   "source": [
    "kmeans.labels_"
   ]
  }
 ],
 "metadata": {
  "kernelspec": {
   "display_name": "Python 3",
   "language": "python",
   "name": "python3"
  },
  "language_info": {
   "codemirror_mode": {
    "name": "ipython",
    "version": 3
   },
   "file_extension": ".py",
   "mimetype": "text/x-python",
   "name": "python",
   "nbconvert_exporter": "python",
   "pygments_lexer": "ipython3",
   "version": "3.7.3"
  }
 },
 "nbformat": 4,
 "nbformat_minor": 2
}
