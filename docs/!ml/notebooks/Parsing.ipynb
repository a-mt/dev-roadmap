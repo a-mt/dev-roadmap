{
 "cells": [
  {
   "cell_type": "markdown",
   "metadata": {},
   "source": [
    "## Part of Speech"
   ]
  },
  {
   "cell_type": "code",
   "execution_count": 1,
   "metadata": {},
   "outputs": [],
   "source": [
    "from nltk import pos_tag\n",
    "from nltk.tokenize import word_tokenize, sent_tokenize"
   ]
  },
  {
   "cell_type": "code",
   "execution_count": 2,
   "metadata": {},
   "outputs": [
    {
     "data": {
      "text/plain": [
       "[('we', 'PRP'),\n",
       " ('are', 'VBP'),\n",
       " ('so', 'RB'),\n",
       " ('grateful', 'JJ'),\n",
       " ('to', 'TO'),\n",
       " ('you', 'PRP'),\n",
       " ('for', 'IN'),\n",
       " ('having', 'VBG'),\n",
       " ('killed', 'VBN'),\n",
       " ('the', 'DT'),\n",
       " ('wicked', 'JJ'),\n",
       " ('witch', 'NN'),\n",
       " ('of', 'IN'),\n",
       " ('the', 'DT'),\n",
       " ('east', 'NN'),\n",
       " (',', ','),\n",
       " ('and', 'CC'),\n",
       " ('for', 'IN'),\n",
       " ('setting', 'VBG'),\n",
       " ('our', 'PRP$'),\n",
       " ('people', 'NNS'),\n",
       " ('free', 'VBP'),\n",
       " ('from', 'IN'),\n",
       " ('bondage', 'NN'),\n",
       " ('.', '.')]"
      ]
     },
     "execution_count": 2,
     "metadata": {},
     "output_type": "execute_result"
    }
   ],
   "source": [
    "txt = 'We are so grateful to you for having killed the Wicked Witch of the East, and for setting our people free from bondage.'\n",
    "\n",
    "txt_pos = pos_tag(word_tokenize(txt.lower()))\n",
    "txt_pos"
   ]
  },
  {
   "cell_type": "markdown",
   "metadata": {},
   "source": [
    "## Chunking"
   ]
  },
  {
   "cell_type": "code",
   "execution_count": 3,
   "metadata": {},
   "outputs": [],
   "source": [
    "from nltk import RegexpParser"
   ]
  },
  {
   "cell_type": "markdown",
   "metadata": {},
   "source": [
    "### Noun phrase"
   ]
  },
  {
   "cell_type": "code",
   "execution_count": 4,
   "metadata": {},
   "outputs": [],
   "source": [
    "# Noun phrases\n",
    "# NP is a user-defined name for the chunks we're looking for\n",
    "chunk_grammar = \"NP: {<DT>?<JJ>*<NN>}\"\n",
    "\n",
    "chunk_parser  = RegexpParser(chunk_grammar)"
   ]
  },
  {
   "cell_type": "code",
   "execution_count": 5,
   "metadata": {},
   "outputs": [
    {
     "data": {
      "image/png": "[encoded data removed]",
      "text/plain": [
       "Tree('S', [('we', 'PRP'), ('are', 'VBP'), ('so', 'RB'), ('grateful', 'JJ'), ('to', 'TO'), ('you', 'PRP'), ('for', 'IN'), ('having', 'VBG'), ('killed', 'VBN'), Tree('NP', [('the', 'DT'), ('wicked', 'JJ'), ('witch', 'NN')]), ('of', 'IN'), Tree('NP', [('the', 'DT'), ('east', 'NN')]), (',', ','), ('and', 'CC'), ('for', 'IN'), ('setting', 'VBG'), ('our', 'PRP$'), ('people', 'NNS'), ('free', 'VBP'), ('from', 'IN'), Tree('NP', [('bondage', 'NN')]), ('.', '.')])"
      ]
     },
     "execution_count": 5,
     "metadata": {},
     "output_type": "execute_result"
    }
   ],
   "source": [
    "chunks = chunk_parser.parse(txt_pos)\n",
    "chunks\n",
    "# Double-click on the image to see it fully"
   ]
  },
  {
   "cell_type": "code",
   "execution_count": 6,
   "metadata": {},
   "outputs": [
    {
     "name": "stdout",
     "output_type": "stream",
     "text": [
      "(('the', 'DT'), ('wicked', 'JJ'), ('witch', 'NN'))\n",
      "(('the', 'DT'), ('east', 'NN'))\n",
      "(('bondage', 'NN'),)\n"
     ]
    }
   ],
   "source": [
    "for subtree in chunks.subtrees():\n",
    "    if subtree.label() == 'NP':\n",
    "        print(tuple(subtree))"
   ]
  },
  {
   "cell_type": "code",
   "execution_count": 7,
   "metadata": {},
   "outputs": [
    {
     "data": {
      "text/plain": [
       "['the wicked witch', 'the east', 'bondage']"
      ]
     },
     "execution_count": 7,
     "metadata": {},
     "output_type": "execute_result"
    }
   ],
   "source": [
    "trees = [\" \".join([w[0] for w in tree.leaves()])\n",
    "    for tree in chunks.subtrees()\n",
    "    if tree.label() == 'NP']\n",
    "trees"
   ]
  },
  {
   "cell_type": "markdown",
   "metadata": {},
   "source": [
    "### On entire document"
   ]
  },
  {
   "cell_type": "code",
   "execution_count": null,
   "metadata": {},
   "outputs": [],
   "source": [
    "!wget http://dev.gutenberg.org/files/55/55.txt -O oz.txt"
   ]
  },
  {
   "cell_type": "code",
   "execution_count": 8,
   "metadata": {},
   "outputs": [
    {
     "data": {
      "text/plain": [
       "1624"
      ]
     },
     "execution_count": 8,
     "metadata": {},
     "output_type": "execute_result"
    }
   ],
   "source": [
    "txt = open('oz.txt', 'r').read()\n",
    "\n",
    "k = txt.find('*** START')\n",
    "if k != -1:\n",
    "    k   = txt.find('\\n', k)\n",
    "    txt = txt[k:]\n",
    "\n",
    "k = txt.find('*** END')\n",
    "if k != -1:\n",
    "    txt = txt[:k]\n",
    "\n",
    "sentences = sent_tokenize(txt)\n",
    "len(sentences)"
   ]
  },
  {
   "cell_type": "code",
   "execution_count": 9,
   "metadata": {},
   "outputs": [],
   "source": [
    "from collections import Counter\n",
    "import re"
   ]
  },
  {
   "cell_type": "code",
   "execution_count": 10,
   "metadata": {},
   "outputs": [
    {
     "data": {
      "text/plain": [
       "[('i', 288),\n",
       " ('the scarecrow', 212),\n",
       " ('dorothy', 179),\n",
       " ('the lion', 148),\n",
       " ('the tin', 123),\n",
       " ('woodman', 112),\n",
       " ('oz', 72),\n",
       " ('toto', 68),\n",
       " ('the wicked witch', 58),\n",
       " ('the woodman', 57),\n",
       " ('head', 55),\n",
       " ('the emerald city', 52),\n",
       " ('the witch', 49),\n",
       " ('the girl', 46),\n",
       " ('chapter', 41),\n",
       " ('the road', 41),\n",
       " ('room', 30),\n",
       " ('s', 29),\n",
       " ('the air', 29),\n",
       " ('nothing', 28),\n",
       " ('t', 27),\n",
       " ('the country', 26),\n",
       " ('the land', 24),\n",
       " ('a heart', 24),\n",
       " ('the sun', 22),\n",
       " ('the west', 22),\n",
       " ('course', 22),\n",
       " ('axe', 22),\n",
       " ('the cowardly lion', 21),\n",
       " ('aunt', 21)]"
      ]
     },
     "execution_count": 10,
     "metadata": {},
     "output_type": "execute_result"
    }
   ],
   "source": [
    "re_punc        = re.compile('[^0-9a-zA-Z .]')\n",
    "chunk_grammar  = \"NP: {<DT>?<JJ>*<NN>}\"\n",
    "\n",
    "chunk_parser  = RegexpParser(chunk_grammar)\n",
    "chunk_counter = Counter()\n",
    "\n",
    "for sentence in sentences:\n",
    "    txt     = re.sub(re_punc, ' ', sentence.lower())\n",
    "    txt_pos = pos_tag(word_tokenize(txt))\n",
    "    chunks  = chunk_parser.parse(txt_pos)\n",
    "\n",
    "    chunk_counter.update([\n",
    "        \" \".join([w[0] for w in subtree.leaves()])\n",
    "        for subtree in chunks.subtrees()\n",
    "        if subtree.label() == 'NP'])\n",
    "\n",
    "chunk_counter.most_common(30)"
   ]
  },
  {
   "cell_type": "markdown",
   "metadata": {},
   "source": [
    "## Named Entity Recognition\n",
    "\n",
    "### Using NLTK"
   ]
  },
  {
   "cell_type": "code",
   "execution_count": null,
   "metadata": {},
   "outputs": [],
   "source": [
    "import nltk\n",
    "nltk.download('maxent_ne_chunker')\n",
    "nltk.download('words')"
   ]
  },
  {
   "cell_type": "code",
   "execution_count": 11,
   "metadata": {},
   "outputs": [],
   "source": [
    "from nltk import pos_tag\n",
    "from nltk.tokenize import word_tokenize\n",
    "from nltk import ne_chunk"
   ]
  },
  {
   "cell_type": "code",
   "execution_count": 12,
   "metadata": {},
   "outputs": [
    {
     "data": {
      "text/plain": [
       "'Prime Minister Narendra Modi on Tuesday announced the 20 Lakh Crore package for the India to fight against the coronavirus pandemic.'"
      ]
     },
     "execution_count": 12,
     "metadata": {},
     "output_type": "execute_result"
    }
   ],
   "source": [
    "txt = 'Prime Minister Narendra Modi on Tuesday announced the 20 Lakh Crore package for the India to fight against the coronavirus pandemic.'\n",
    "txt"
   ]
  },
  {
   "cell_type": "code",
   "execution_count": 13,
   "metadata": {},
   "outputs": [
    {
     "name": "stdout",
     "output_type": "stream",
     "text": [
      "(S\n",
      "  Prime/NNP\n",
      "  Minister/NNP\n",
      "  (PERSON Narendra/NNP Modi/NNP)\n",
      "  on/IN\n",
      "  Tuesday/NNP\n",
      "  announced/VBD\n",
      "  the/DT\n",
      "  20/CD\n",
      "  Lakh/NNP\n",
      "  Crore/NNP\n",
      "  package/NN\n",
      "  for/IN\n",
      "  the/DT\n",
      "  (GPE India/NNP)\n",
      "  to/TO\n",
      "  fight/VB\n",
      "  against/IN\n",
      "  the/DT\n",
      "  coronavirus/NN\n",
      "  pandemic/NN\n",
      "  ./.)\n"
     ]
    }
   ],
   "source": [
    "txt_pos = pos_tag(word_tokenize(txt))\n",
    "res     = ne_chunk(txt_pos, binary=False)\n",
    "print(res)"
   ]
  },
  {
   "cell_type": "markdown",
   "metadata": {},
   "source": [
    "### Using spacy"
   ]
  },
  {
   "cell_type": "code",
   "execution_count": null,
   "metadata": {},
   "outputs": [],
   "source": [
    "!python -m spacy download en_core_web_sm"
   ]
  },
  {
   "cell_type": "code",
   "execution_count": 14,
   "metadata": {},
   "outputs": [],
   "source": [
    "import spacy"
   ]
  },
  {
   "cell_type": "code",
   "execution_count": 15,
   "metadata": {},
   "outputs": [],
   "source": [
    "nlp = spacy.load('en_core_web_sm')"
   ]
  },
  {
   "cell_type": "code",
   "execution_count": 16,
   "metadata": {},
   "outputs": [
    {
     "data": {
      "text/plain": [
       "'Prime Minister Narendra Modi on Tuesday announced the 20 Lakh Crore package for the India to fight against the coronavirus pandemic.'"
      ]
     },
     "execution_count": 16,
     "metadata": {},
     "output_type": "execute_result"
    }
   ],
   "source": [
    "txt"
   ]
  },
  {
   "cell_type": "code",
   "execution_count": 17,
   "metadata": {},
   "outputs": [
    {
     "name": "stdout",
     "output_type": "stream",
     "text": [
      "Narendra Modi PERSON\n",
      "Tuesday DATE\n",
      "20 CARDINAL\n",
      "Lakh Crore ORG\n",
      "India GPE\n"
     ]
    }
   ],
   "source": [
    "doc = nlp(txt)\n",
    "\n",
    "for ent in doc.ents:\n",
    "    print(ent.text, ent.label_)"
   ]
  },
  {
   "cell_type": "code",
   "execution_count": 18,
   "metadata": {},
   "outputs": [
    {
     "data": {
      "text/html": [
       "<span class=\"tex2jax_ignore\"><div class=\"entities\" style=\"line-height: 2.5; direction: ltr\">Prime Minister \n",
       "<mark class=\"entity\" style=\"background: #aa9cfc; padding: 0.45em 0.6em; margin: 0 0.25em; line-height: 1; border-radius: 0.35em;\">\n",
       "    Narendra Modi\n",
       "    <span style=\"font-size: 0.8em; font-weight: bold; line-height: 1; border-radius: 0.35em; text-transform: uppercase; vertical-align: middle; margin-left: 0.5rem\">PERSON</span>\n",
       "</mark>\n",
       " on \n",
       "<mark class=\"entity\" style=\"background: #bfe1d9; padding: 0.45em 0.6em; margin: 0 0.25em; line-height: 1; border-radius: 0.35em;\">\n",
       "    Tuesday\n",
       "    <span style=\"font-size: 0.8em; font-weight: bold; line-height: 1; border-radius: 0.35em; text-transform: uppercase; vertical-align: middle; margin-left: 0.5rem\">DATE</span>\n",
       "</mark>\n",
       " announced the \n",
       "<mark class=\"entity\" style=\"background: #e4e7d2; padding: 0.45em 0.6em; margin: 0 0.25em; line-height: 1; border-radius: 0.35em;\">\n",
       "    20\n",
       "    <span style=\"font-size: 0.8em; font-weight: bold; line-height: 1; border-radius: 0.35em; text-transform: uppercase; vertical-align: middle; margin-left: 0.5rem\">CARDINAL</span>\n",
       "</mark>\n",
       " \n",
       "<mark class=\"entity\" style=\"background: #7aecec; padding: 0.45em 0.6em; margin: 0 0.25em; line-height: 1; border-radius: 0.35em;\">\n",
       "    Lakh Crore\n",
       "    <span style=\"font-size: 0.8em; font-weight: bold; line-height: 1; border-radius: 0.35em; text-transform: uppercase; vertical-align: middle; margin-left: 0.5rem\">ORG</span>\n",
       "</mark>\n",
       " package for the \n",
       "<mark class=\"entity\" style=\"background: #feca74; padding: 0.45em 0.6em; margin: 0 0.25em; line-height: 1; border-radius: 0.35em;\">\n",
       "    India\n",
       "    <span style=\"font-size: 0.8em; font-weight: bold; line-height: 1; border-radius: 0.35em; text-transform: uppercase; vertical-align: middle; margin-left: 0.5rem\">GPE</span>\n",
       "</mark>\n",
       " to fight against the coronavirus pandemic.</div></span>"
      ],
      "text/plain": [
       "<IPython.core.display.HTML object>"
      ]
     },
     "metadata": {},
     "output_type": "display_data"
    }
   ],
   "source": [
    "spacy.displacy.render(doc, style='ent')"
   ]
  },
  {
   "cell_type": "markdown",
   "metadata": {},
   "source": [
    "## Dependency grammar tree"
   ]
  },
  {
   "cell_type": "code",
   "execution_count": 19,
   "metadata": {},
   "outputs": [],
   "source": [
    "from nltk import Tree"
   ]
  },
  {
   "cell_type": "code",
   "execution_count": 20,
   "metadata": {},
   "outputs": [],
   "source": [
    "def to_nltk_tree(node):\n",
    "    if node.n_lefts + node.n_rights > 0:\n",
    "        parsed_child_nodes = [to_nltk_tree(child) for child in node.children]\n",
    "        return Tree(node.orth_, parsed_child_nodes)\n",
    "    else:\n",
    "        return node.orth_"
   ]
  },
  {
   "cell_type": "code",
   "execution_count": 21,
   "metadata": {
    "scrolled": true
   },
   "outputs": [
    {
     "name": "stdout",
     "output_type": "stream",
     "text": [
      "                                       announced                                                 \n",
      "  _________________________________________|______________                                        \n",
      " |            |               |                        package                                   \n",
      " |            |               |      _____________________|__________                             \n",
      " |            |               |     |      |       |               fight                         \n",
      " |            |               |     |      |       |       __________|__________                  \n",
      " |           Modi             |     |      |       |      |     |    |       against             \n",
      " |      ______|______         |     |      |       |      |     |    |          |                 \n",
      " |     |          Minister    on    |      |     Crore    |     |  India     pandemic            \n",
      " |     |             |        |     |      |       |      |     |    |     _____|__________       \n",
      " .  Narendra       Prime   Tuesday the     20     Lakh   for    to  the  the          coronavirus\n",
      "\n"
     ]
    }
   ],
   "source": [
    "for sent in doc.sents:\n",
    "    to_nltk_tree(sent.root).pretty_print()"
   ]
  },
  {
   "cell_type": "code",
   "execution_count": 22,
   "metadata": {},
   "outputs": [
    {
     "data": {
      "image/png": "[encoded data removed]",
      "text/plain": [
       "Tree('announced', [Tree('Modi', [Tree('Minister', ['Prime']), 'Narendra']), Tree('on', ['Tuesday']), Tree('package', ['the', '20', Tree('Crore', ['Lakh']), Tree('fight', ['for', Tree('India', ['the']), 'to', Tree('against', [Tree('pandemic', ['the', 'coronavirus'])])])]), '.'])"
      ]
     },
     "metadata": {},
     "output_type": "display_data"
    }
   ],
   "source": [
    "for sent in doc.sents:\n",
    "    display(to_nltk_tree(sent.root))"
   ]
  }
 ],
 "metadata": {
  "kernelspec": {
   "display_name": "Python 3",
   "language": "python",
   "name": "python3"
  },
  "language_info": {
   "codemirror_mode": {
    "name": "ipython",
    "version": 3
   },
   "file_extension": ".py",
   "mimetype": "text/x-python",
   "name": "python",
   "nbconvert_exporter": "python",
   "pygments_lexer": "ipython3",
   "version": "3.7.3"
  }
 },
 "nbformat": 4,
 "nbformat_minor": 2
}
