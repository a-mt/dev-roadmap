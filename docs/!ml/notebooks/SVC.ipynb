{
 "cells": [
  {
   "cell_type": "code",
   "execution_count": 2,
   "metadata": {},
   "outputs": [],
   "source": [
    "import pandas as pd\n",
    "import numpy as np\n",
    "import matplotlib.pyplot as plt"
   ]
  },
  {
   "cell_type": "markdown",
   "metadata": {},
   "source": [
    "## Load data"
   ]
  },
  {
   "cell_type": "code",
   "execution_count": 3,
   "metadata": {},
   "outputs": [
    {
     "data": {
      "text/html": [
       "<div>\n",
       "<style scoped>\n",
       "    .dataframe tbody tr th:only-of-type {\n",
       "        vertical-align: middle;\n",
       "    }\n",
       "\n",
       "    .dataframe tbody tr th {\n",
       "        vertical-align: top;\n",
       "    }\n",
       "\n",
       "    .dataframe thead th {\n",
       "        text-align: right;\n",
       "    }\n",
       "</style>\n",
       "<table border=\"1\" class=\"dataframe\">\n",
       "  <thead>\n",
       "    <tr style=\"text-align: right;\">\n",
       "      <th></th>\n",
       "      <th>Age</th>\n",
       "      <th>Experience</th>\n",
       "      <th>Badass</th>\n",
       "    </tr>\n",
       "  </thead>\n",
       "  <tbody>\n",
       "    <tr>\n",
       "      <th>0</th>\n",
       "      <td>20.0</td>\n",
       "      <td>2.3</td>\n",
       "      <td>0</td>\n",
       "    </tr>\n",
       "    <tr>\n",
       "      <th>1</th>\n",
       "      <td>16.2</td>\n",
       "      <td>2.2</td>\n",
       "      <td>0</td>\n",
       "    </tr>\n",
       "    <tr>\n",
       "      <th>2</th>\n",
       "      <td>20.2</td>\n",
       "      <td>1.8</td>\n",
       "      <td>0</td>\n",
       "    </tr>\n",
       "    <tr>\n",
       "      <th>3</th>\n",
       "      <td>18.8</td>\n",
       "      <td>1.4</td>\n",
       "      <td>0</td>\n",
       "    </tr>\n",
       "    <tr>\n",
       "      <th>4</th>\n",
       "      <td>18.9</td>\n",
       "      <td>3.2</td>\n",
       "      <td>0</td>\n",
       "    </tr>\n",
       "    <tr>\n",
       "      <th>5</th>\n",
       "      <td>16.7</td>\n",
       "      <td>3.9</td>\n",
       "      <td>0</td>\n",
       "    </tr>\n",
       "    <tr>\n",
       "      <th>6</th>\n",
       "      <td>13.6</td>\n",
       "      <td>1.4</td>\n",
       "      <td>0</td>\n",
       "    </tr>\n",
       "    <tr>\n",
       "      <th>7</th>\n",
       "      <td>20.0</td>\n",
       "      <td>1.4</td>\n",
       "      <td>0</td>\n",
       "    </tr>\n",
       "    <tr>\n",
       "      <th>8</th>\n",
       "      <td>18.0</td>\n",
       "      <td>3.6</td>\n",
       "      <td>0</td>\n",
       "    </tr>\n",
       "    <tr>\n",
       "      <th>9</th>\n",
       "      <td>21.2</td>\n",
       "      <td>4.3</td>\n",
       "      <td>1</td>\n",
       "    </tr>\n",
       "    <tr>\n",
       "      <th>10</th>\n",
       "      <td>25.0</td>\n",
       "      <td>4.3</td>\n",
       "      <td>1</td>\n",
       "    </tr>\n",
       "    <tr>\n",
       "      <th>11</th>\n",
       "      <td>31.2</td>\n",
       "      <td>4.2</td>\n",
       "      <td>1</td>\n",
       "    </tr>\n",
       "    <tr>\n",
       "      <th>12</th>\n",
       "      <td>25.2</td>\n",
       "      <td>3.8</td>\n",
       "      <td>1</td>\n",
       "    </tr>\n",
       "    <tr>\n",
       "      <th>13</th>\n",
       "      <td>23.8</td>\n",
       "      <td>3.4</td>\n",
       "      <td>1</td>\n",
       "    </tr>\n",
       "    <tr>\n",
       "      <th>14</th>\n",
       "      <td>23.9</td>\n",
       "      <td>5.2</td>\n",
       "      <td>1</td>\n",
       "    </tr>\n",
       "    <tr>\n",
       "      <th>15</th>\n",
       "      <td>21.7</td>\n",
       "      <td>5.9</td>\n",
       "      <td>1</td>\n",
       "    </tr>\n",
       "    <tr>\n",
       "      <th>16</th>\n",
       "      <td>18.6</td>\n",
       "      <td>3.4</td>\n",
       "      <td>0</td>\n",
       "    </tr>\n",
       "    <tr>\n",
       "      <th>17</th>\n",
       "      <td>25.0</td>\n",
       "      <td>3.4</td>\n",
       "      <td>1</td>\n",
       "    </tr>\n",
       "    <tr>\n",
       "      <th>18</th>\n",
       "      <td>23.0</td>\n",
       "      <td>5.6</td>\n",
       "      <td>1</td>\n",
       "    </tr>\n",
       "    <tr>\n",
       "      <th>19</th>\n",
       "      <td>26.2</td>\n",
       "      <td>6.3</td>\n",
       "      <td>1</td>\n",
       "    </tr>\n",
       "  </tbody>\n",
       "</table>\n",
       "</div>"
      ],
      "text/plain": [
       "     Age  Experience  Badass\n",
       "0   20.0         2.3       0\n",
       "1   16.2         2.2       0\n",
       "2   20.2         1.8       0\n",
       "3   18.8         1.4       0\n",
       "4   18.9         3.2       0\n",
       "5   16.7         3.9       0\n",
       "6   13.6         1.4       0\n",
       "7   20.0         1.4       0\n",
       "8   18.0         3.6       0\n",
       "9   21.2         4.3       1\n",
       "10  25.0         4.3       1\n",
       "11  31.2         4.2       1\n",
       "12  25.2         3.8       1\n",
       "13  23.8         3.4       1\n",
       "14  23.9         5.2       1\n",
       "15  21.7         5.9       1\n",
       "16  18.6         3.4       0\n",
       "17  25.0         3.4       1\n",
       "18  23.0         5.6       1\n",
       "19  26.2         6.3       1"
      ]
     },
     "execution_count": 3,
     "metadata": {},
     "output_type": "execute_result"
    }
   ],
   "source": [
    "df = pd.DataFrame({\n",
    "    'Age': [20,16.2,20.2,18.8,18.9,16.7,13.6,20.0,18.0,21.2,\n",
    "           25,31.2,25.2,23.8,23.9,21.7,18.6,25.0,23.0,26.2],\n",
    "    'Experience': [2.3,2.2,1.8,1.4,3.2,3.9,1.4,1.4,3.6,4.3,\n",
    "            4.3,4.2,3.8,3.4,5.2,5.9,3.4,3.4,5.6,6.3],\n",
    "    'Badass': [0,0,0,0,0,0,0,0,0,1,\n",
    "            1,1,1,1,1,1,0,1,1,1]\n",
    "})\n",
    "df"
   ]
  },
  {
   "cell_type": "code",
   "execution_count": 4,
   "metadata": {},
   "outputs": [
    {
     "data": {
      "text/plain": [
       "<matplotlib.collections.PathCollection at 0x7f6416410080>"
      ]
     },
     "execution_count": 4,
     "metadata": {},
     "output_type": "execute_result"
    },
    {
     "data": {
      "image/png": "[encoded data removed]",
      "text/plain": [
       "<Figure size 432x288 with 1 Axes>"
      ]
     },
     "metadata": {
      "needs_background": "light"
     },
     "output_type": "display_data"
    }
   ],
   "source": [
    "colors = np.full_like(df['Badass'], 'red', dtype='object')\n",
    "colors[df['Badass'] == 1] = 'blue'\n",
    "\n",
    "plt.scatter(df['Age'], df['Experience'], color=colors)"
   ]
  },
  {
   "cell_type": "code",
   "execution_count": 5,
   "metadata": {},
   "outputs": [
    {
     "name": "stdout",
     "output_type": "stream",
     "text": [
      "(20, 2) (20,)\n"
     ]
    }
   ],
   "source": [
    "X = df.drop('Badass', axis=1)\n",
    "Y = df['Badass']\n",
    "\n",
    "print(X.shape, Y.shape)"
   ]
  },
  {
   "cell_type": "markdown",
   "metadata": {},
   "source": [
    "## Using sklearn"
   ]
  },
  {
   "cell_type": "code",
   "execution_count": 6,
   "metadata": {},
   "outputs": [],
   "source": [
    "from sklearn import svm"
   ]
  },
  {
   "cell_type": "code",
   "execution_count": 7,
   "metadata": {},
   "outputs": [
    {
     "data": {
      "text/plain": [
       "SVC(C=1.0, cache_size=200, class_weight=None, coef0=0.0,\n",
       "    decision_function_shape='ovr', degree=3, gamma='auto_deprecated',\n",
       "    kernel='linear', max_iter=-1, probability=False, random_state=None,\n",
       "    shrinking=True, tol=0.001, verbose=False)"
      ]
     },
     "execution_count": 7,
     "metadata": {},
     "output_type": "execute_result"
    }
   ],
   "source": [
    "model = svm.SVC(kernel='linear', C=1.0)\n",
    "model.fit(X, Y)"
   ]
  },
  {
   "cell_type": "code",
   "execution_count": 8,
   "metadata": {},
   "outputs": [
    {
     "data": {
      "text/plain": [
       "array([[20. ,  2.3],\n",
       "       [18.9,  3.2],\n",
       "       [21.2,  4.3]])"
      ]
     },
     "execution_count": 8,
     "metadata": {},
     "output_type": "execute_result"
    }
   ],
   "source": [
    "# View support vectors\n",
    "model.support_vectors_"
   ]
  },
  {
   "cell_type": "code",
   "execution_count": 9,
   "metadata": {},
   "outputs": [
    {
     "data": {
      "text/plain": [
       "array([0, 4, 9], dtype=int32)"
      ]
     },
     "execution_count": 9,
     "metadata": {},
     "output_type": "execute_result"
    }
   ],
   "source": [
    "# View indices of support vectors\n",
    "model.support_"
   ]
  },
  {
   "cell_type": "code",
   "execution_count": 10,
   "metadata": {},
   "outputs": [
    {
     "data": {
      "text/plain": [
       "array([2, 1], dtype=int32)"
      ]
     },
     "execution_count": 10,
     "metadata": {},
     "output_type": "execute_result"
    }
   ],
   "source": [
    "# View number of support vectors for each class\n",
    "model.n_support_"
   ]
  },
  {
   "cell_type": "code",
   "execution_count": 11,
   "metadata": {},
   "outputs": [
    {
     "name": "stdout",
     "output_type": "stream",
     "text": [
      "[[0.54860245 0.67084429]] [-13.51509414]\n"
     ]
    }
   ],
   "source": [
    "# Get the separating hyperplane\n",
    "print(model.coef_, model.intercept_)"
   ]
  },
  {
   "cell_type": "markdown",
   "metadata": {},
   "source": [
    "### Plot"
   ]
  },
  {
   "cell_type": "code",
   "execution_count": 12,
   "metadata": {},
   "outputs": [
    {
     "data": {
      "image/png": "[encoded data removed]",
      "text/plain": [
       "<Figure size 432x288 with 1 Axes>"
      ]
     },
     "metadata": {
      "needs_background": "light"
     },
     "output_type": "display_data"
    }
   ],
   "source": [
    "def plot_decision_boundary(X, coef, intercept, v):\n",
    "\n",
    "    # Draw points\n",
    "    plt.scatter(X[:,0], X[:,1], color=colors)\n",
    "\n",
    "    a = -coef[0]/coef[1]\n",
    "    b = -intercept/coef[1]\n",
    "\n",
    "    # Draw hyperplane with margin\n",
    "    _X = np.arange(X[:,0].min(), X[:,0].max()+1, .1)\n",
    "    _Y = _X * a + b\n",
    "\n",
    "    margin  = 1 / np.sqrt(np.sum(coef**2))\n",
    "    _Y_down = _Y - np.sqrt(1 + a**2) * margin\n",
    "    _Y_up   = _Y + np.sqrt(1 + a**2) * margin\n",
    "\n",
    "    plt.plot(_X, _Y)\n",
    "    plt.plot(_X, _Y_down, linestyle='--', color='lightgrey')\n",
    "    plt.plot(_X, _Y_up,   linestyle='--', color='lightgrey')\n",
    "\n",
    "    # Highlight support vectors\n",
    "    plt.plot(v[:,0], v[:,1],\n",
    "             marker='o', markersize=15,\n",
    "             linewidth=0,\n",
    "             color='grey', alpha=0.3)\n",
    "    plt.show()\n",
    "\n",
    "plot_decision_boundary(\n",
    "    X.values,\n",
    "    model.coef_[0],\n",
    "    model.intercept_[0],\n",
    "    model.support_vectors_\n",
    ")"
   ]
  },
  {
   "cell_type": "markdown",
   "metadata": {},
   "source": [
    "### Plot using contour"
   ]
  },
  {
   "cell_type": "code",
   "execution_count": 13,
   "metadata": {},
   "outputs": [
    {
     "data": {
      "image/png": "[encoded data removed]",
      "text/plain": [
       "<Figure size 432x288 with 1 Axes>"
      ]
     },
     "metadata": {
      "needs_background": "light"
     },
     "output_type": "display_data"
    }
   ],
   "source": [
    "def predict(X):\n",
    "    return model.predict(X)\n",
    "\n",
    "def plot_contour(X, v):\n",
    "\n",
    "    # Draw points\n",
    "    plt.scatter(X[:,0], X[:,1], color=colors)\n",
    "\n",
    "    x_min, x_max = plt.gca().get_xlim()\n",
    "    y_min, y_max = plt.gca().get_ylim()\n",
    "\n",
    "    # Highlight support vectors\n",
    "    plt.plot(v[:,0], v[:,1],\n",
    "             marker='o', markersize=15,\n",
    "             linewidth=0,\n",
    "             color='grey', alpha=0.3)\n",
    "    \n",
    "    # Draw contour\n",
    "    xx, yy = np.meshgrid(np.arange(x_min, x_max+.1, .1),\n",
    "                         np.arange(y_min, y_max+.1, .1))\n",
    "\n",
    "    Z = predict(np.c_[xx.ravel(), yy.ravel()]) \\\n",
    "            .reshape(xx.shape)\n",
    "\n",
    "    plt.contourf(xx, yy, Z, cmap=plt.cm.Pastel1, alpha=0.3)\n",
    "\n",
    "plot_contour(X.values, model.support_vectors_)"
   ]
  },
  {
   "cell_type": "code",
   "execution_count": 14,
   "metadata": {},
   "outputs": [
    {
     "data": {
      "text/plain": [
       "array([0])"
      ]
     },
     "execution_count": 14,
     "metadata": {},
     "output_type": "execute_result"
    }
   ],
   "source": [
    "predict([X.loc[0]])"
   ]
  },
  {
   "cell_type": "markdown",
   "metadata": {},
   "source": [
    "---\n",
    "\n",
    "## From scratch"
   ]
  },
  {
   "cell_type": "code",
   "execution_count": 15,
   "metadata": {},
   "outputs": [],
   "source": [
    "from sklearn.preprocessing import StandardScaler\n",
    "\n",
    "scaler = StandardScaler()"
   ]
  },
  {
   "cell_type": "code",
   "execution_count": 16,
   "metadata": {},
   "outputs": [],
   "source": [
    "_X = scaler.fit_transform(X)\n",
    "_Y = Y.replace(0,-1).values"
   ]
  },
  {
   "cell_type": "code",
   "execution_count": 21,
   "metadata": {},
   "outputs": [
    {
     "name": "stdout",
     "output_type": "stream",
     "text": [
      "[1.4368838  0.66372392] 0.057000000000000044 [ 4  9 13]\n"
     ]
    }
   ],
   "source": [
    "def fit(X, y, C = 1.0, alpha=1e-3, epochs=500):\n",
    "\n",
    "    # Initialize weights\n",
    "    w = np.random.randn(X.shape[1])\n",
    "    b = 0\n",
    "\n",
    "    for _ in range(epochs):\n",
    "        margin = y * (X.dot(w) + b)\n",
    "\n",
    "        pts_idx = np.where(margin < 1)[0]\n",
    "        dw = w - C * y[pts_idx].dot(X[pts_idx])\n",
    "        w -= alpha * dw\n",
    "\n",
    "        db = - C * np.sum(y[pts_idx])\n",
    "        b -= alpha * db\n",
    "\n",
    "    margin = y * (X.dot(w) + b)\n",
    "    support_ = np.where(margin <= 1)[0]\n",
    "\n",
    "    return w, b, support_\n",
    "\n",
    "coef_, intercept_, support_ = fit(_X, _Y)\n",
    "\n",
    "print(coef_, intercept_, support_)"
   ]
  },
  {
   "cell_type": "code",
   "execution_count": 22,
   "metadata": {},
   "outputs": [
    {
     "data": {
      "image/png": "[encoded data removed]",
      "text/plain": [
       "<Figure size 432x288 with 1 Axes>"
      ]
     },
     "metadata": {
      "needs_background": "light"
     },
     "output_type": "display_data"
    }
   ],
   "source": [
    "plot_decision_boundary(\n",
    "    _X,\n",
    "    coef_,\n",
    "    intercept_,\n",
    "    _X[support_]\n",
    ")"
   ]
  },
  {
   "cell_type": "code",
   "execution_count": 19,
   "metadata": {},
   "outputs": [
    {
     "data": {
      "image/png": "[encoded data removed]",
      "text/plain": [
       "<Figure size 432x288 with 1 Axes>"
      ]
     },
     "metadata": {
      "needs_background": "light"
     },
     "output_type": "display_data"
    }
   ],
   "source": [
    "def predict(X):\n",
    "    return np.sign(X.dot(coef_) + intercept_)\n",
    "\n",
    "plot_contour(_X, _X[support_])"
   ]
  },
  {
   "cell_type": "code",
   "execution_count": 20,
   "metadata": {},
   "outputs": [
    {
     "data": {
      "text/plain": [
       "array([-1.])"
      ]
     },
     "execution_count": 20,
     "metadata": {},
     "output_type": "execute_result"
    }
   ],
   "source": [
    "predict(np.array([_X[0]]))"
   ]
  }
 ],
 "metadata": {
  "kernelspec": {
   "display_name": "Python 3",
   "language": "python",
   "name": "python3"
  },
  "language_info": {
   "codemirror_mode": {
    "name": "ipython",
    "version": 3
   },
   "file_extension": ".py",
   "mimetype": "text/x-python",
   "name": "python",
   "nbconvert_exporter": "python",
   "pygments_lexer": "ipython3",
   "version": "3.7.3"
  }
 },
 "nbformat": 4,
 "nbformat_minor": 2
}
