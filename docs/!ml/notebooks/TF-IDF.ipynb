{
 "cells": [
  {
   "cell_type": "code",
   "execution_count": 1,
   "metadata": {},
   "outputs": [],
   "source": [
    "from nltk.tokenize import word_tokenize\n",
    "from nltk.stem import WordNetLemmatizer\n",
    "from nltk import pos_tag\n",
    "import re"
   ]
  },
  {
   "cell_type": "code",
   "execution_count": 2,
   "metadata": {},
   "outputs": [],
   "source": [
    "normalizer = WordNetLemmatizer()\n",
    "\n",
    "treebank_wordnet_pos = {\n",
    "    'J': 'a', # adjective\n",
    "    'V': 'v', # verb\n",
    "    'N': 'n', # noun\n",
    "    'R': 'r', # adverb\n",
    "}\n",
    "def get_wordnet_pos(treebank_pos, default='n'):\n",
    "    return treebank_wordnet_pos.get(treebank_pos[0], default)\n",
    "\n",
    "def preprocess_text(txt):\n",
    "    txt    = re.sub(r'\\W+', ' ', txt).lower()\n",
    "    tokens = word_tokenize(txt)\n",
    "\n",
    "    return [\n",
    "        normalizer.lemmatize(token[0], get_wordnet_pos(token[1]))\n",
    "        for token in pos_tag(tokens)\n",
    "    ]"
   ]
  },
  {
   "cell_type": "code",
   "execution_count": 3,
   "metadata": {},
   "outputs": [
    {
     "data": {
      "text/plain": [
       "['this be a sample sentence',\n",
       " 'this be my second sentence',\n",
       " 'be this my third sentence']"
      ]
     },
     "execution_count": 3,
     "metadata": {},
     "output_type": "execute_result"
    }
   ],
   "source": [
    "corpus = [\n",
    "    \"This is a sample sentence!\",\n",
    "    \"This is my second sentence.\",\n",
    "    \"Is this my third sentence?\"\n",
    "]\n",
    "corpus_cleaned = [\" \".join(preprocess_text(doc)) for doc in corpus]\n",
    "corpus_cleaned"
   ]
  },
  {
   "cell_type": "markdown",
   "metadata": {},
   "source": [
    "## From scratch"
   ]
  },
  {
   "cell_type": "code",
   "execution_count": 4,
   "metadata": {},
   "outputs": [],
   "source": [
    "import pandas as pd\n",
    "import numpy as np"
   ]
  },
  {
   "cell_type": "markdown",
   "metadata": {},
   "source": [
    "### Term frequencies"
   ]
  },
  {
   "cell_type": "markdown",
   "metadata": {},
   "source": [
    "Term frequency indicates how often each word appears in the document. The intuition for including term frequency in the tf-idf calculation is that the more frequently a word appears in a single document, the more important that term is to the document.\n",
    "\n",
    "    tf(t,d) = count of t in document / number of words in document"
   ]
  },
  {
   "cell_type": "code",
   "execution_count": 5,
   "metadata": {},
   "outputs": [],
   "source": [
    "from sklearn.feature_extraction.text import CountVectorizer"
   ]
  },
  {
   "cell_type": "code",
   "execution_count": 6,
   "metadata": {},
   "outputs": [
    {
     "data": {
      "text/plain": [
       "array([[1, 0, 1, 0, 1, 0, 1],\n",
       "       [1, 1, 0, 1, 1, 0, 1],\n",
       "       [1, 1, 0, 0, 1, 1, 1]])"
      ]
     },
     "execution_count": 6,
     "metadata": {},
     "output_type": "execute_result"
    }
   ],
   "source": [
    "vectorizer       = CountVectorizer()\n",
    "term_frequencies = vectorizer.fit_transform(corpus_cleaned).toarray()\n",
    "term_frequencies"
   ]
  },
  {
   "cell_type": "code",
   "execution_count": 7,
   "metadata": {},
   "outputs": [
    {
     "data": {
      "text/html": [
       "<div>\n",
       "<style scoped>\n",
       "    .dataframe tbody tr th:only-of-type {\n",
       "        vertical-align: middle;\n",
       "    }\n",
       "\n",
       "    .dataframe tbody tr th {\n",
       "        vertical-align: top;\n",
       "    }\n",
       "\n",
       "    .dataframe thead th {\n",
       "        text-align: right;\n",
       "    }\n",
       "</style>\n",
       "<table border=\"1\" class=\"dataframe\">\n",
       "  <thead>\n",
       "    <tr style=\"text-align: right;\">\n",
       "      <th></th>\n",
       "      <th>this be a sample sentence</th>\n",
       "      <th>this be my second sentence</th>\n",
       "      <th>be this my third sentence</th>\n",
       "    </tr>\n",
       "  </thead>\n",
       "  <tbody>\n",
       "    <tr>\n",
       "      <th>be</th>\n",
       "      <td>1</td>\n",
       "      <td>1</td>\n",
       "      <td>1</td>\n",
       "    </tr>\n",
       "    <tr>\n",
       "      <th>my</th>\n",
       "      <td>0</td>\n",
       "      <td>1</td>\n",
       "      <td>1</td>\n",
       "    </tr>\n",
       "    <tr>\n",
       "      <th>sample</th>\n",
       "      <td>1</td>\n",
       "      <td>0</td>\n",
       "      <td>0</td>\n",
       "    </tr>\n",
       "    <tr>\n",
       "      <th>second</th>\n",
       "      <td>0</td>\n",
       "      <td>1</td>\n",
       "      <td>0</td>\n",
       "    </tr>\n",
       "    <tr>\n",
       "      <th>sentence</th>\n",
       "      <td>1</td>\n",
       "      <td>1</td>\n",
       "      <td>1</td>\n",
       "    </tr>\n",
       "    <tr>\n",
       "      <th>third</th>\n",
       "      <td>0</td>\n",
       "      <td>0</td>\n",
       "      <td>1</td>\n",
       "    </tr>\n",
       "    <tr>\n",
       "      <th>this</th>\n",
       "      <td>1</td>\n",
       "      <td>1</td>\n",
       "      <td>1</td>\n",
       "    </tr>\n",
       "  </tbody>\n",
       "</table>\n",
       "</div>"
      ],
      "text/plain": [
       "          this be a sample sentence  this be my second sentence  \\\n",
       "be                                1                           1   \n",
       "my                                0                           1   \n",
       "sample                            1                           0   \n",
       "second                            0                           1   \n",
       "sentence                          1                           1   \n",
       "third                             0                           0   \n",
       "this                              1                           1   \n",
       "\n",
       "          be this my third sentence  \n",
       "be                                1  \n",
       "my                                1  \n",
       "sample                            0  \n",
       "second                            0  \n",
       "sentence                          1  \n",
       "third                             1  \n",
       "this                              1  "
      ]
     },
     "execution_count": 7,
     "metadata": {},
     "output_type": "execute_result"
    }
   ],
   "source": [
    "# Visualize term_frequencies\n",
    "df_tf = pd.DataFrame(\n",
    "    term_frequencies.T,\n",
    "    index=vectorizer.get_feature_names(),\n",
    "    columns=corpus_cleaned\n",
    ")\n",
    "df_tf"
   ]
  },
  {
   "cell_type": "markdown",
   "metadata": {},
   "source": [
    "### Inverse document frequencies\n",
    "\n",
    "The inverse document frequency component of the tf-idf score penalizes terms that appear more frequently across a corpus. The intuition is that words that appear more frequently in the corpus give less insight into the topic or meaning of an individual document, and should thus be deprioritized.\n",
    "\n",
    "We can calculate the inverse document frequency for some term t across a corpus using\n",
    "\n",
    "    idf(t) = log(n/occurrence of t in documents) + 1\n",
    "\n",
    "Smoothing idf: As we cannot divide by 0, the constant \"1\" is added to the numerator and denominator of the idf as if an extra document was seen containing every term in the collection exactly once, which prevents zero divisions:\n",
    "\n",
    "    smoothed_idf(t) = log [ (1 + n) / (1 + df(t)) ] + 1\n",
    "\n",
    "The important take away from the equation is that as the number of documents with the term t increases, the inverse document frequency decreases (due to the nature of the log function)."
   ]
  },
  {
   "cell_type": "code",
   "execution_count": 8,
   "metadata": {},
   "outputs": [
    {
     "data": {
      "text/plain": [
       "array([1.        , 1.28768207, 1.69314718, 1.69314718, 1.        ,\n",
       "       1.69314718, 1.        ])"
      ]
     },
     "execution_count": 8,
     "metadata": {},
     "output_type": "execute_result"
    }
   ],
   "source": [
    "n_samples, n_features = term_frequencies.shape\n",
    "doc_frequency         = term_frequencies.sum(axis=0)\n",
    "\n",
    "inverse_doc_frequency = np.log(\n",
    "    (1 + n_samples) / (1 + doc_frequency)\n",
    ") + 1\n",
    "\n",
    "inverse_doc_frequency"
   ]
  },
  {
   "cell_type": "code",
   "execution_count": 9,
   "metadata": {},
   "outputs": [
    {
     "data": {
      "text/plain": [
       "array([1.        , 1.28768207, 1.69314718, 1.69314718, 1.        ,\n",
       "       1.69314718, 1.        ])"
      ]
     },
     "execution_count": 9,
     "metadata": {},
     "output_type": "execute_result"
    }
   ],
   "source": [
    "# Inverse Document Frequency using sklearn\n",
    "from sklearn.feature_extraction.text import TfidfTransformer\n",
    "\n",
    "transformer = TfidfTransformer(norm=None, smooth_idf=True)\n",
    "transformer.fit(term_frequencies)\n",
    "inverse_doc_frequency = transformer.idf_\n",
    "inverse_doc_frequency"
   ]
  },
  {
   "cell_type": "code",
   "execution_count": 10,
   "metadata": {},
   "outputs": [
    {
     "data": {
      "text/html": [
       "<div>\n",
       "<style scoped>\n",
       "    .dataframe tbody tr th:only-of-type {\n",
       "        vertical-align: middle;\n",
       "    }\n",
       "\n",
       "    .dataframe tbody tr th {\n",
       "        vertical-align: top;\n",
       "    }\n",
       "\n",
       "    .dataframe thead th {\n",
       "        text-align: right;\n",
       "    }\n",
       "</style>\n",
       "<table border=\"1\" class=\"dataframe\">\n",
       "  <thead>\n",
       "    <tr style=\"text-align: right;\">\n",
       "      <th></th>\n",
       "      <th>idf</th>\n",
       "    </tr>\n",
       "  </thead>\n",
       "  <tbody>\n",
       "    <tr>\n",
       "      <th>be</th>\n",
       "      <td>1.000000</td>\n",
       "    </tr>\n",
       "    <tr>\n",
       "      <th>my</th>\n",
       "      <td>1.287682</td>\n",
       "    </tr>\n",
       "    <tr>\n",
       "      <th>sample</th>\n",
       "      <td>1.693147</td>\n",
       "    </tr>\n",
       "    <tr>\n",
       "      <th>second</th>\n",
       "      <td>1.693147</td>\n",
       "    </tr>\n",
       "    <tr>\n",
       "      <th>sentence</th>\n",
       "      <td>1.000000</td>\n",
       "    </tr>\n",
       "    <tr>\n",
       "      <th>third</th>\n",
       "      <td>1.693147</td>\n",
       "    </tr>\n",
       "    <tr>\n",
       "      <th>this</th>\n",
       "      <td>1.000000</td>\n",
       "    </tr>\n",
       "  </tbody>\n",
       "</table>\n",
       "</div>"
      ],
      "text/plain": [
       "               idf\n",
       "be        1.000000\n",
       "my        1.287682\n",
       "sample    1.693147\n",
       "second    1.693147\n",
       "sentence  1.000000\n",
       "third     1.693147\n",
       "this      1.000000"
      ]
     },
     "execution_count": 10,
     "metadata": {},
     "output_type": "execute_result"
    }
   ],
   "source": [
    "# Visualize inverse_doc_frequency\n",
    "df_itf = pd.DataFrame(\n",
    "    inverse_doc_frequency,\n",
    "    index=vectorizer.get_feature_names(),\n",
    "    columns=['idf'])\n",
    "df_itf"
   ]
  },
  {
   "cell_type": "markdown",
   "metadata": {},
   "source": [
    "### TF-IDF\n",
    "\n",
    "    tf-idf(t, d) = tf(t, d) * idf(t)"
   ]
  },
  {
   "cell_type": "code",
   "execution_count": 11,
   "metadata": {},
   "outputs": [
    {
     "data": {
      "text/html": [
       "<div>\n",
       "<style scoped>\n",
       "    .dataframe tbody tr th:only-of-type {\n",
       "        vertical-align: middle;\n",
       "    }\n",
       "\n",
       "    .dataframe tbody tr th {\n",
       "        vertical-align: top;\n",
       "    }\n",
       "\n",
       "    .dataframe thead th {\n",
       "        text-align: right;\n",
       "    }\n",
       "</style>\n",
       "<table border=\"1\" class=\"dataframe\">\n",
       "  <thead>\n",
       "    <tr style=\"text-align: right;\">\n",
       "      <th></th>\n",
       "      <th>this be a sample sentence</th>\n",
       "      <th>this be my second sentence</th>\n",
       "      <th>be this my third sentence</th>\n",
       "    </tr>\n",
       "  </thead>\n",
       "  <tbody>\n",
       "    <tr>\n",
       "      <th>be</th>\n",
       "      <td>1.000000</td>\n",
       "      <td>1.000000</td>\n",
       "      <td>1.000000</td>\n",
       "    </tr>\n",
       "    <tr>\n",
       "      <th>my</th>\n",
       "      <td>0.000000</td>\n",
       "      <td>1.287682</td>\n",
       "      <td>1.287682</td>\n",
       "    </tr>\n",
       "    <tr>\n",
       "      <th>sample</th>\n",
       "      <td>1.693147</td>\n",
       "      <td>0.000000</td>\n",
       "      <td>0.000000</td>\n",
       "    </tr>\n",
       "    <tr>\n",
       "      <th>second</th>\n",
       "      <td>0.000000</td>\n",
       "      <td>1.693147</td>\n",
       "      <td>0.000000</td>\n",
       "    </tr>\n",
       "    <tr>\n",
       "      <th>sentence</th>\n",
       "      <td>1.000000</td>\n",
       "      <td>1.000000</td>\n",
       "      <td>1.000000</td>\n",
       "    </tr>\n",
       "    <tr>\n",
       "      <th>third</th>\n",
       "      <td>0.000000</td>\n",
       "      <td>0.000000</td>\n",
       "      <td>1.693147</td>\n",
       "    </tr>\n",
       "    <tr>\n",
       "      <th>this</th>\n",
       "      <td>1.000000</td>\n",
       "      <td>1.000000</td>\n",
       "      <td>1.000000</td>\n",
       "    </tr>\n",
       "  </tbody>\n",
       "</table>\n",
       "</div>"
      ],
      "text/plain": [
       "          this be a sample sentence  this be my second sentence  \\\n",
       "be                         1.000000                    1.000000   \n",
       "my                         0.000000                    1.287682   \n",
       "sample                     1.693147                    0.000000   \n",
       "second                     0.000000                    1.693147   \n",
       "sentence                   1.000000                    1.000000   \n",
       "third                      0.000000                    0.000000   \n",
       "this                       1.000000                    1.000000   \n",
       "\n",
       "          be this my third sentence  \n",
       "be                         1.000000  \n",
       "my                         1.287682  \n",
       "sample                     0.000000  \n",
       "second                     0.000000  \n",
       "sentence                   1.000000  \n",
       "third                      1.693147  \n",
       "this                       1.000000  "
      ]
     },
     "execution_count": 11,
     "metadata": {},
     "output_type": "execute_result"
    }
   ],
   "source": [
    "df_tf * df_itf.values"
   ]
  },
  {
   "cell_type": "markdown",
   "metadata": {},
   "source": [
    "---\n",
    "\n",
    "## TF-IDF using sklearn"
   ]
  },
  {
   "cell_type": "code",
   "execution_count": 12,
   "metadata": {},
   "outputs": [],
   "source": [
    "from sklearn.feature_extraction.text import TfidfVectorizer"
   ]
  },
  {
   "cell_type": "code",
   "execution_count": 13,
   "metadata": {},
   "outputs": [
    {
     "data": {
      "text/plain": [
       "array([[1.        , 0.        , 1.69314718, 0.        , 1.        ,\n",
       "        0.        , 1.        ],\n",
       "       [1.        , 1.28768207, 0.        , 1.69314718, 1.        ,\n",
       "        0.        , 1.        ],\n",
       "       [1.        , 1.28768207, 0.        , 0.        , 1.        ,\n",
       "        1.69314718, 1.        ]])"
      ]
     },
     "execution_count": 13,
     "metadata": {},
     "output_type": "execute_result"
    }
   ],
   "source": [
    "vectorizer   = TfidfVectorizer(norm=None)\n",
    "tfidf_scores = vectorizer.fit_transform(corpus_cleaned).toarray()\n",
    "tfidf_scores"
   ]
  },
  {
   "cell_type": "code",
   "execution_count": 14,
   "metadata": {},
   "outputs": [
    {
     "data": {
      "text/html": [
       "<div>\n",
       "<style scoped>\n",
       "    .dataframe tbody tr th:only-of-type {\n",
       "        vertical-align: middle;\n",
       "    }\n",
       "\n",
       "    .dataframe tbody tr th {\n",
       "        vertical-align: top;\n",
       "    }\n",
       "\n",
       "    .dataframe thead th {\n",
       "        text-align: right;\n",
       "    }\n",
       "</style>\n",
       "<table border=\"1\" class=\"dataframe\">\n",
       "  <thead>\n",
       "    <tr style=\"text-align: right;\">\n",
       "      <th></th>\n",
       "      <th>this be a sample sentence</th>\n",
       "      <th>this be my second sentence</th>\n",
       "      <th>be this my third sentence</th>\n",
       "    </tr>\n",
       "  </thead>\n",
       "  <tbody>\n",
       "    <tr>\n",
       "      <th>be</th>\n",
       "      <td>1.000000</td>\n",
       "      <td>1.000000</td>\n",
       "      <td>1.000000</td>\n",
       "    </tr>\n",
       "    <tr>\n",
       "      <th>my</th>\n",
       "      <td>0.000000</td>\n",
       "      <td>1.287682</td>\n",
       "      <td>1.287682</td>\n",
       "    </tr>\n",
       "    <tr>\n",
       "      <th>sample</th>\n",
       "      <td>1.693147</td>\n",
       "      <td>0.000000</td>\n",
       "      <td>0.000000</td>\n",
       "    </tr>\n",
       "    <tr>\n",
       "      <th>second</th>\n",
       "      <td>0.000000</td>\n",
       "      <td>1.693147</td>\n",
       "      <td>0.000000</td>\n",
       "    </tr>\n",
       "    <tr>\n",
       "      <th>sentence</th>\n",
       "      <td>1.000000</td>\n",
       "      <td>1.000000</td>\n",
       "      <td>1.000000</td>\n",
       "    </tr>\n",
       "    <tr>\n",
       "      <th>third</th>\n",
       "      <td>0.000000</td>\n",
       "      <td>0.000000</td>\n",
       "      <td>1.693147</td>\n",
       "    </tr>\n",
       "    <tr>\n",
       "      <th>this</th>\n",
       "      <td>1.000000</td>\n",
       "      <td>1.000000</td>\n",
       "      <td>1.000000</td>\n",
       "    </tr>\n",
       "  </tbody>\n",
       "</table>\n",
       "</div>"
      ],
      "text/plain": [
       "          this be a sample sentence  this be my second sentence  \\\n",
       "be                         1.000000                    1.000000   \n",
       "my                         0.000000                    1.287682   \n",
       "sample                     1.693147                    0.000000   \n",
       "second                     0.000000                    1.693147   \n",
       "sentence                   1.000000                    1.000000   \n",
       "third                      0.000000                    0.000000   \n",
       "this                       1.000000                    1.000000   \n",
       "\n",
       "          be this my third sentence  \n",
       "be                         1.000000  \n",
       "my                         1.287682  \n",
       "sample                     0.000000  \n",
       "second                     0.000000  \n",
       "sentence                   1.000000  \n",
       "third                      1.693147  \n",
       "this                       1.000000  "
      ]
     },
     "execution_count": 14,
     "metadata": {},
     "output_type": "execute_result"
    }
   ],
   "source": [
    "pd.DataFrame(\n",
    "    tfidf_scores.T,\n",
    "    index=vectorizer.get_feature_names(),\n",
    "    columns=corpus_cleaned\n",
    ")"
   ]
  },
  {
   "cell_type": "markdown",
   "metadata": {},
   "source": [
    "## Search algorithm"
   ]
  },
  {
   "cell_type": "code",
   "execution_count": 15,
   "metadata": {},
   "outputs": [
    {
     "data": {
      "text/plain": [
       "23"
      ]
     },
     "execution_count": 15,
     "metadata": {},
     "output_type": "execute_result"
    }
   ],
   "source": [
    "the_raven = '''\n",
    "Once upon a midnight dreary, while I pondered, weak and weary,\n",
    " Over many a quaint and curious volume of forgotten lore,\n",
    " While I nodded, nearly napping, suddenly there came a tapping,\n",
    " As of some one gently rapping, rapping at my chamber door.\n",
    " “‘Tis some visiter,” I muttered, “tapping at my chamber door—\n",
    "                          Only this, and nothing more.”\n",
    " Ah, distinctly I remember it was in the bleak December,\n",
    " And each separate dying ember wrought its ghost upon the floor.\n",
    " Eagerly I wished the morrow;—vainly I had sought to borrow\n",
    " From my books surcease of sorrow—sorrow for the lost Lenore—\n",
    " For the rare and radiant maiden whom the angels name Lenore—\n",
    "                          Nameless here for evermore.\n",
    " And the silken sad uncertain rustling of each purple curtain\n",
    " Thrilled me—filled me with fantastic terrors never felt before;\n",
    " So that now, to still the beating of my heart, I stood repeating\n",
    " “‘Tis some visiter entreating entrance at my chamber door—\n",
    " Some late visiter entreating entrance at my chamber door;—\n",
    "                          This it is, and nothing more.”\n",
    " Presently my soul grew stronger; hesitating then no longer,\n",
    " “Sir,” said I, “or Madam, truly your forgiveness I implore;\n",
    " But the fact is I was napping, and so gently you came rapping,\n",
    " And so faintly you came tapping, tapping at my chamber door,\n",
    " That I scarce was sure I heard you “—here I opened wide the door;——\n",
    "                          Darkness there and nothing more.\n",
    " Deep into that darkness peering, long I stood there wondering, fearing,\n",
    " Doubting, dreaming dreams no mortal ever dared to dream before;\n",
    " But the silence was unbroken, and the darkness gave no token,\n",
    " And the only word there spoken was the whispered word, “Lenore!”\n",
    "  This I whispered, and an echo murmured back the word, “Lenore!”—\n",
    "                          Merely this, and nothing more.\n",
    " Back into the chamber turning, all my soul within me burning,\n",
    " Soon I heard again a tapping somewhat louder than before.\n",
    " “Surely,” said I, “surely that is something at my window lattice;\n",
    " Let me see, then, what thereat is, and this mystery explore—\n",
    " Let my heart be still a moment and this mystery explore;—\n",
    "                          ‘Tis the wind and nothing more!”\n",
    " Open here I flung the shutter, when, with many a flirt and flutter,\n",
    " In there stepped a stately raven of the saintly days of yore;\n",
    " Not the least obeisance made he; not an instant stopped or stayed he;\n",
    " But, with mien of lord or lady, perched above my chamber door—\n",
    " Perched upon a bust of Pallas just above my chamber door—\n",
    "                          Perched, and sat, and nothing more.\n",
    " Then this ebony bird beguiling my sad fancy into smiling,\n",
    " By the grave and stern decorum of the countenance it wore,\n",
    " “Though thy crest be shorn and shaven, thou,” I said, “art sure no craven,\n",
    " Ghastly grim and ancient raven wandering from the Nightly shore—\n",
    " Tell me what thy lordly name is on the Night’s Plutonian shore!”\n",
    "                          Quoth the raven “Nevermore.”\n",
    " Much I marvelled this ungainly fowl to hear discourse so plainly,\n",
    " Though its answer little meaning—little relevancy bore;\n",
    " For we cannot help agreeing that no living human being\n",
    " Ever yet was blessed with seeing bird above his chamber door—\n",
    " Bird or beast upon the sculptured bust above his chamber door,\n",
    "                         With such name as “Nevermore.”\n",
    " But the raven, sitting lonely on the placid bust, spoke only\n",
    " That one word, as if his soul in that one word he did outpour.\n",
    " Nothing farther then he uttered—not a feather then he fluttered—\n",
    " Till I scarcely more than muttered “Other friends have flown before—\n",
    " On the morrow he will leave me, as my hopes have flown before.”\n",
    "                          Then the bird said “Nevermore.”\n",
    " Startled at the stillness broken by reply so aptly spoken,\n",
    " “Doubtless,” said I, “what it utters is its only stock and store\n",
    " Caught from some unhappy master whom unmerciful Disaster\n",
    " Followed fast and followed faster till his songs one burden bore—\n",
    " Till the dirges of his Hope that melancholy burden bore\n",
    "                         Of “Never—nevermore.”\n",
    " But the raven still beguiling all my sad soul into smiling,\n",
    " Straight I wheeled a cushioned seat in front of bird, and bust and door;\n",
    " Then, upon the velvet sinking, I betook myself to thinking\n",
    " Fancy unto fancy, thinking what this ominous bird of yore—\n",
    " What this grim, ungainly, ghastly, gaunt and ominous bird of yore\n",
    "                         Meant in croaking “Nevermore.”\n",
    " This I sat engaged in guessing, but no syllable expressing\n",
    " To the fowl whose fiery eyes now burned into my bosom’s core;\n",
    " This and more I sat divining, with my head at ease reclining\n",
    " On the cushion’s velvet lining that the lamplght gloated o’er,\n",
    " But whose velvet violet lining with the lamplight gloating o’er,\n",
    "                          She shall press, ah, nevermore!\n",
    " Then, methought, the air grew denser, perfumed from an unseen censer\n",
    " Swung by Angels whose faint foot-falls tinkled on the tufted floor.\n",
    " “Wretch,” I cried, “thy God hath lent thee—by these angels he hath sent\n",
    " thee\n",
    " Respite—respite and nepenthe from thy memories of Lenore;\n",
    " Quaff, oh quaff this kind nepenthe and forget this lost Lenore!”\n",
    "                           Quoth the raven, “Nevermore.”\n",
    " “Prophet!” said I, “thing of evil!—prophet still, if bird or devil!—\n",
    " Whether Tempter sent, or whether tempest tossed thee here ashore,\n",
    " Desolate yet all undaunted, on this desert land enchanted—\n",
    " On this home by Horror haunted—tell me truly, I implore—\n",
    " Is there—is there balm in Gilead?—tell me—tell me, I implore!”\n",
    "                           Quoth the raven, “Nevermore.”\n",
    " “Prophet!” said I, “thing of evil—prophet still, if bird or devil!\n",
    " By that Heaven that bends above us—by that God we both adore—\n",
    " Tell this soul with sorrow laden if, within the distant Aidenn,\n",
    " It shall clasp a sainted maiden whom the angels name Lenore—\n",
    " Clasp a rare and radiant maiden whom the angels name Lenore.”\n",
    "                           Quoth the raven, “Nevermore.”\n",
    " “Be that word our sign of parting, bird or fiend!” I shrieked, upstarting—\n",
    " “Get thee back into the tempest and the Night’s Plutonian shore!\n",
    " Leave no black plume as a token of that lie thy soul hath spoken!\n",
    " Leave my loneliness unbroken!—quit the bust above my door!\n",
    " Take thy beak from out my heart, and take thy form from off my door!”\n",
    "                          Quoth the raven, “Nevermore.”\n",
    " And the raven, never flitting, still is sitting, still is sitting\n",
    " On the pallid bust of Pallas just above my chamber door;\n",
    " And his eyes have all the seeming of a demon’s that is dreaming,\n",
    " And the lamp-light o’er him streaming throws his shadow on the floor;\n",
    " And my soul from out that shadow that lies floating on the floor\n",
    "                          Shall be lifted—nevermore!\n",
    "'''\n",
    "\n",
    "raven = the_raven.split('.')\n",
    "len(raven)"
   ]
  },
  {
   "cell_type": "code",
   "execution_count": 16,
   "metadata": {},
   "outputs": [
    {
     "data": {
      "text/plain": [
       "'\\nOnce upon a midnight dreary, while I pondered, weak and weary,\\n Over many a quaint and curious volume of forgotten lore,\\n While I nodded, nearly napping, suddenly there came a tapping,\\n As of some one gently rapping, rapping at my chamber door'"
      ]
     },
     "execution_count": 16,
     "metadata": {},
     "output_type": "execute_result"
    }
   ],
   "source": [
    "raven[0]"
   ]
  },
  {
   "cell_type": "code",
   "execution_count": 17,
   "metadata": {},
   "outputs": [
    {
     "data": {
      "text/plain": [
       "'once upon a midnight dreary while i ponder weak and weary over many a quaint and curious volume of forgotten lore while i nod nearly nap suddenly there come a tapping a of some one gently rap rap at my chamber door'"
      ]
     },
     "execution_count": 17,
     "metadata": {},
     "output_type": "execute_result"
    }
   ],
   "source": [
    "raven_cleaned = [\" \".join(preprocess_text(txt)) for txt in raven]\n",
    "raven_cleaned[0]"
   ]
  },
  {
   "cell_type": "code",
   "execution_count": 18,
   "metadata": {},
   "outputs": [
    {
     "data": {
      "text/html": [
       "<div>\n",
       "<style scoped>\n",
       "    .dataframe tbody tr th:only-of-type {\n",
       "        vertical-align: middle;\n",
       "    }\n",
       "\n",
       "    .dataframe tbody tr th {\n",
       "        vertical-align: top;\n",
       "    }\n",
       "\n",
       "    .dataframe thead th {\n",
       "        text-align: right;\n",
       "    }\n",
       "</style>\n",
       "<table border=\"1\" class=\"dataframe\">\n",
       "  <thead>\n",
       "    <tr style=\"text-align: right;\">\n",
       "      <th></th>\n",
       "      <th>0</th>\n",
       "      <th>1</th>\n",
       "      <th>2</th>\n",
       "      <th>3</th>\n",
       "      <th>4</th>\n",
       "      <th>5</th>\n",
       "      <th>6</th>\n",
       "      <th>7</th>\n",
       "      <th>8</th>\n",
       "      <th>9</th>\n",
       "      <th>...</th>\n",
       "      <th>13</th>\n",
       "      <th>14</th>\n",
       "      <th>15</th>\n",
       "      <th>16</th>\n",
       "      <th>17</th>\n",
       "      <th>18</th>\n",
       "      <th>19</th>\n",
       "      <th>20</th>\n",
       "      <th>21</th>\n",
       "      <th>22</th>\n",
       "    </tr>\n",
       "  </thead>\n",
       "  <tbody>\n",
       "    <tr>\n",
       "      <th>above</th>\n",
       "      <td>0.0</td>\n",
       "      <td>0.0</td>\n",
       "      <td>0.000000</td>\n",
       "      <td>0.0</td>\n",
       "      <td>0.0</td>\n",
       "      <td>0.000000</td>\n",
       "      <td>0.0</td>\n",
       "      <td>0.000000</td>\n",
       "      <td>4.772589</td>\n",
       "      <td>0.0</td>\n",
       "      <td>...</td>\n",
       "      <td>0.0</td>\n",
       "      <td>0.0</td>\n",
       "      <td>0.000000</td>\n",
       "      <td>0.000000</td>\n",
       "      <td>0.0</td>\n",
       "      <td>0.000000</td>\n",
       "      <td>2.386294</td>\n",
       "      <td>0.0</td>\n",
       "      <td>2.386294</td>\n",
       "      <td>2.386294</td>\n",
       "    </tr>\n",
       "    <tr>\n",
       "      <th>adore</th>\n",
       "      <td>0.0</td>\n",
       "      <td>0.0</td>\n",
       "      <td>0.000000</td>\n",
       "      <td>0.0</td>\n",
       "      <td>0.0</td>\n",
       "      <td>0.000000</td>\n",
       "      <td>0.0</td>\n",
       "      <td>0.000000</td>\n",
       "      <td>0.000000</td>\n",
       "      <td>0.0</td>\n",
       "      <td>...</td>\n",
       "      <td>0.0</td>\n",
       "      <td>0.0</td>\n",
       "      <td>0.000000</td>\n",
       "      <td>0.000000</td>\n",
       "      <td>0.0</td>\n",
       "      <td>0.000000</td>\n",
       "      <td>3.484907</td>\n",
       "      <td>0.0</td>\n",
       "      <td>0.000000</td>\n",
       "      <td>0.000000</td>\n",
       "    </tr>\n",
       "    <tr>\n",
       "      <th>again</th>\n",
       "      <td>0.0</td>\n",
       "      <td>0.0</td>\n",
       "      <td>0.000000</td>\n",
       "      <td>0.0</td>\n",
       "      <td>0.0</td>\n",
       "      <td>0.000000</td>\n",
       "      <td>0.0</td>\n",
       "      <td>3.484907</td>\n",
       "      <td>0.000000</td>\n",
       "      <td>0.0</td>\n",
       "      <td>...</td>\n",
       "      <td>0.0</td>\n",
       "      <td>0.0</td>\n",
       "      <td>0.000000</td>\n",
       "      <td>0.000000</td>\n",
       "      <td>0.0</td>\n",
       "      <td>0.000000</td>\n",
       "      <td>0.000000</td>\n",
       "      <td>0.0</td>\n",
       "      <td>0.000000</td>\n",
       "      <td>0.000000</td>\n",
       "    </tr>\n",
       "    <tr>\n",
       "      <th>agree</th>\n",
       "      <td>0.0</td>\n",
       "      <td>0.0</td>\n",
       "      <td>0.000000</td>\n",
       "      <td>0.0</td>\n",
       "      <td>0.0</td>\n",
       "      <td>0.000000</td>\n",
       "      <td>0.0</td>\n",
       "      <td>0.000000</td>\n",
       "      <td>0.000000</td>\n",
       "      <td>0.0</td>\n",
       "      <td>...</td>\n",
       "      <td>0.0</td>\n",
       "      <td>0.0</td>\n",
       "      <td>0.000000</td>\n",
       "      <td>0.000000</td>\n",
       "      <td>0.0</td>\n",
       "      <td>0.000000</td>\n",
       "      <td>0.000000</td>\n",
       "      <td>0.0</td>\n",
       "      <td>0.000000</td>\n",
       "      <td>0.000000</td>\n",
       "    </tr>\n",
       "    <tr>\n",
       "      <th>ah</th>\n",
       "      <td>0.0</td>\n",
       "      <td>0.0</td>\n",
       "      <td>3.079442</td>\n",
       "      <td>0.0</td>\n",
       "      <td>0.0</td>\n",
       "      <td>0.000000</td>\n",
       "      <td>0.0</td>\n",
       "      <td>0.000000</td>\n",
       "      <td>0.000000</td>\n",
       "      <td>0.0</td>\n",
       "      <td>...</td>\n",
       "      <td>0.0</td>\n",
       "      <td>0.0</td>\n",
       "      <td>0.000000</td>\n",
       "      <td>3.079442</td>\n",
       "      <td>0.0</td>\n",
       "      <td>0.000000</td>\n",
       "      <td>0.000000</td>\n",
       "      <td>0.0</td>\n",
       "      <td>0.000000</td>\n",
       "      <td>0.000000</td>\n",
       "    </tr>\n",
       "    <tr>\n",
       "      <th>...</th>\n",
       "      <td>...</td>\n",
       "      <td>...</td>\n",
       "      <td>...</td>\n",
       "      <td>...</td>\n",
       "      <td>...</td>\n",
       "      <td>...</td>\n",
       "      <td>...</td>\n",
       "      <td>...</td>\n",
       "      <td>...</td>\n",
       "      <td>...</td>\n",
       "      <td>...</td>\n",
       "      <td>...</td>\n",
       "      <td>...</td>\n",
       "      <td>...</td>\n",
       "      <td>...</td>\n",
       "      <td>...</td>\n",
       "      <td>...</td>\n",
       "      <td>...</td>\n",
       "      <td>...</td>\n",
       "      <td>...</td>\n",
       "      <td>...</td>\n",
       "    </tr>\n",
       "    <tr>\n",
       "      <th>wrought</th>\n",
       "      <td>0.0</td>\n",
       "      <td>0.0</td>\n",
       "      <td>3.484907</td>\n",
       "      <td>0.0</td>\n",
       "      <td>0.0</td>\n",
       "      <td>0.000000</td>\n",
       "      <td>0.0</td>\n",
       "      <td>0.000000</td>\n",
       "      <td>0.000000</td>\n",
       "      <td>0.0</td>\n",
       "      <td>...</td>\n",
       "      <td>0.0</td>\n",
       "      <td>0.0</td>\n",
       "      <td>0.000000</td>\n",
       "      <td>0.000000</td>\n",
       "      <td>0.0</td>\n",
       "      <td>0.000000</td>\n",
       "      <td>0.000000</td>\n",
       "      <td>0.0</td>\n",
       "      <td>0.000000</td>\n",
       "      <td>0.000000</td>\n",
       "    </tr>\n",
       "    <tr>\n",
       "      <th>yet</th>\n",
       "      <td>0.0</td>\n",
       "      <td>0.0</td>\n",
       "      <td>0.000000</td>\n",
       "      <td>0.0</td>\n",
       "      <td>0.0</td>\n",
       "      <td>0.000000</td>\n",
       "      <td>0.0</td>\n",
       "      <td>0.000000</td>\n",
       "      <td>0.000000</td>\n",
       "      <td>0.0</td>\n",
       "      <td>...</td>\n",
       "      <td>0.0</td>\n",
       "      <td>0.0</td>\n",
       "      <td>0.000000</td>\n",
       "      <td>0.000000</td>\n",
       "      <td>0.0</td>\n",
       "      <td>3.079442</td>\n",
       "      <td>0.000000</td>\n",
       "      <td>0.0</td>\n",
       "      <td>0.000000</td>\n",
       "      <td>0.000000</td>\n",
       "    </tr>\n",
       "    <tr>\n",
       "      <th>yore</th>\n",
       "      <td>0.0</td>\n",
       "      <td>0.0</td>\n",
       "      <td>0.000000</td>\n",
       "      <td>0.0</td>\n",
       "      <td>0.0</td>\n",
       "      <td>0.000000</td>\n",
       "      <td>0.0</td>\n",
       "      <td>0.000000</td>\n",
       "      <td>3.079442</td>\n",
       "      <td>0.0</td>\n",
       "      <td>...</td>\n",
       "      <td>0.0</td>\n",
       "      <td>0.0</td>\n",
       "      <td>6.158883</td>\n",
       "      <td>0.000000</td>\n",
       "      <td>0.0</td>\n",
       "      <td>0.000000</td>\n",
       "      <td>0.000000</td>\n",
       "      <td>0.0</td>\n",
       "      <td>0.000000</td>\n",
       "      <td>0.000000</td>\n",
       "    </tr>\n",
       "    <tr>\n",
       "      <th>you</th>\n",
       "      <td>0.0</td>\n",
       "      <td>0.0</td>\n",
       "      <td>0.000000</td>\n",
       "      <td>0.0</td>\n",
       "      <td>0.0</td>\n",
       "      <td>10.454720</td>\n",
       "      <td>0.0</td>\n",
       "      <td>0.000000</td>\n",
       "      <td>0.000000</td>\n",
       "      <td>0.0</td>\n",
       "      <td>...</td>\n",
       "      <td>0.0</td>\n",
       "      <td>0.0</td>\n",
       "      <td>0.000000</td>\n",
       "      <td>0.000000</td>\n",
       "      <td>0.0</td>\n",
       "      <td>0.000000</td>\n",
       "      <td>0.000000</td>\n",
       "      <td>0.0</td>\n",
       "      <td>0.000000</td>\n",
       "      <td>0.000000</td>\n",
       "    </tr>\n",
       "    <tr>\n",
       "      <th>your</th>\n",
       "      <td>0.0</td>\n",
       "      <td>0.0</td>\n",
       "      <td>0.000000</td>\n",
       "      <td>0.0</td>\n",
       "      <td>0.0</td>\n",
       "      <td>3.484907</td>\n",
       "      <td>0.0</td>\n",
       "      <td>0.000000</td>\n",
       "      <td>0.000000</td>\n",
       "      <td>0.0</td>\n",
       "      <td>...</td>\n",
       "      <td>0.0</td>\n",
       "      <td>0.0</td>\n",
       "      <td>0.000000</td>\n",
       "      <td>0.000000</td>\n",
       "      <td>0.0</td>\n",
       "      <td>0.000000</td>\n",
       "      <td>0.000000</td>\n",
       "      <td>0.0</td>\n",
       "      <td>0.000000</td>\n",
       "      <td>0.000000</td>\n",
       "    </tr>\n",
       "  </tbody>\n",
       "</table>\n",
       "<p>423 rows × 23 columns</p>\n",
       "</div>"
      ],
      "text/plain": [
       "          0    1         2    3    4          5    6         7         8   \\\n",
       "above    0.0  0.0  0.000000  0.0  0.0   0.000000  0.0  0.000000  4.772589   \n",
       "adore    0.0  0.0  0.000000  0.0  0.0   0.000000  0.0  0.000000  0.000000   \n",
       "again    0.0  0.0  0.000000  0.0  0.0   0.000000  0.0  3.484907  0.000000   \n",
       "agree    0.0  0.0  0.000000  0.0  0.0   0.000000  0.0  0.000000  0.000000   \n",
       "ah       0.0  0.0  3.079442  0.0  0.0   0.000000  0.0  0.000000  0.000000   \n",
       "...      ...  ...       ...  ...  ...        ...  ...       ...       ...   \n",
       "wrought  0.0  0.0  3.484907  0.0  0.0   0.000000  0.0  0.000000  0.000000   \n",
       "yet      0.0  0.0  0.000000  0.0  0.0   0.000000  0.0  0.000000  0.000000   \n",
       "yore     0.0  0.0  0.000000  0.0  0.0   0.000000  0.0  0.000000  3.079442   \n",
       "you      0.0  0.0  0.000000  0.0  0.0  10.454720  0.0  0.000000  0.000000   \n",
       "your     0.0  0.0  0.000000  0.0  0.0   3.484907  0.0  0.000000  0.000000   \n",
       "\n",
       "          9   ...   13   14        15        16   17        18        19   20  \\\n",
       "above    0.0  ...  0.0  0.0  0.000000  0.000000  0.0  0.000000  2.386294  0.0   \n",
       "adore    0.0  ...  0.0  0.0  0.000000  0.000000  0.0  0.000000  3.484907  0.0   \n",
       "again    0.0  ...  0.0  0.0  0.000000  0.000000  0.0  0.000000  0.000000  0.0   \n",
       "agree    0.0  ...  0.0  0.0  0.000000  0.000000  0.0  0.000000  0.000000  0.0   \n",
       "ah       0.0  ...  0.0  0.0  0.000000  3.079442  0.0  0.000000  0.000000  0.0   \n",
       "...      ...  ...  ...  ...       ...       ...  ...       ...       ...  ...   \n",
       "wrought  0.0  ...  0.0  0.0  0.000000  0.000000  0.0  0.000000  0.000000  0.0   \n",
       "yet      0.0  ...  0.0  0.0  0.000000  0.000000  0.0  3.079442  0.000000  0.0   \n",
       "yore     0.0  ...  0.0  0.0  6.158883  0.000000  0.0  0.000000  0.000000  0.0   \n",
       "you      0.0  ...  0.0  0.0  0.000000  0.000000  0.0  0.000000  0.000000  0.0   \n",
       "your     0.0  ...  0.0  0.0  0.000000  0.000000  0.0  0.000000  0.000000  0.0   \n",
       "\n",
       "               21        22  \n",
       "above    2.386294  2.386294  \n",
       "adore    0.000000  0.000000  \n",
       "again    0.000000  0.000000  \n",
       "agree    0.000000  0.000000  \n",
       "ah       0.000000  0.000000  \n",
       "...           ...       ...  \n",
       "wrought  0.000000  0.000000  \n",
       "yet      0.000000  0.000000  \n",
       "yore     0.000000  0.000000  \n",
       "you      0.000000  0.000000  \n",
       "your     0.000000  0.000000  \n",
       "\n",
       "[423 rows x 23 columns]"
      ]
     },
     "execution_count": 18,
     "metadata": {},
     "output_type": "execute_result"
    }
   ],
   "source": [
    "# Build tf-idf lookup table\n",
    "vectorizer   = TfidfVectorizer(norm=None)\n",
    "tfidf_scores = vectorizer.fit_transform(raven_cleaned).toarray()\n",
    "\n",
    "df_tfidf = pd.DataFrame(\n",
    "    tfidf_scores.T,\n",
    "    index=vectorizer.get_feature_names()\n",
    ")\n",
    "df_tfidf"
   ]
  },
  {
   "cell_type": "code",
   "execution_count": 19,
   "metadata": {},
   "outputs": [
    {
     "data": {
      "text/plain": [
       "15    8.469860\n",
       "9     7.533669\n",
       "22    6.522068\n",
       "16    6.522068\n",
       "21    6.446658\n",
       "6     5.435057\n",
       "19    5.359646\n",
       "10    5.284236\n",
       "3     4.348046\n",
       "8     4.348046\n",
       "18    3.185624\n",
       "13    3.185624\n",
       "2     2.174023\n",
       "4     2.174023\n",
       "5     2.174023\n",
       "11    2.174023\n",
       "14    2.174023\n",
       "7     1.087011\n",
       "12    1.087011\n",
       "17    1.087011\n",
       "20    1.087011\n",
       "1     0.000000\n",
       "0     0.000000\n",
       "Name: the, dtype: float64"
      ]
     },
     "execution_count": 19,
     "metadata": {},
     "output_type": "execute_result"
    }
   ],
   "source": [
    "# Get most relevant docs for \"the bird\"\n",
    "terms  = 'the bird'.split(' ')\n",
    "search = None\n",
    "\n",
    "for term in terms:\n",
    "    if search is None:\n",
    "        search  = df_tfidf.loc[term]\n",
    "    else:\n",
    "        search += df_tfidf.loc[term]\n",
    "\n",
    "search = search.sort_values(ascending=False)\n",
    "search"
   ]
  },
  {
   "cell_type": "code",
   "execution_count": 20,
   "metadata": {},
   "outputs": [],
   "source": [
    "from IPython.display import display, HTML"
   ]
  },
  {
   "cell_type": "code",
   "execution_count": 21,
   "metadata": {},
   "outputs": [
    {
     "data": {
      "text/html": [
       "<style>marked{background:lightskyblue}</style><h3>Result 1</h3>”<br> But <marked>the</marked> raven still beguiling all my sad soul into smiling,<br> Straight I wheeled a cushioned seat in front of <marked>bird</marked>, and bust and door;<br> Then, upon <marked>the</marked> velvet sinking, I betook myself to thinking<br> Fancy unto fancy, thinking what this ominous <marked>bird</marked> of yore—<br> What this grim, ungainly, ghastly, gaunt and ominous <marked>bird</marked> of yore<br>                         Meant in croaking “Nevermore"
      ],
      "text/plain": [
       "<IPython.core.display.HTML object>"
      ]
     },
     "metadata": {},
     "output_type": "display_data"
    },
    {
     "data": {
      "text/html": [
       "<style>marked{background:lightskyblue}</style><h3>Result 2</h3><br> Then this ebony <marked>bird</marked> beguiling my sad fancy into smiling,<br> By <marked>the</marked> grave and stern decorum of <marked>the</marked> countenance it wore,<br> “Though thy crest be shorn and shaven, thou,” I said, “art sure no craven,<br> Ghastly grim and ancient raven wandering from <marked>the</marked> Nightly shore—<br> Tell me what thy lordly name is on <marked>the</marked> Night’s Plutonian shore!”<br>                          Quoth <marked>the</marked> raven “Nevermore"
      ],
      "text/plain": [
       "<IPython.core.display.HTML object>"
      ]
     },
     "metadata": {},
     "output_type": "display_data"
    },
    {
     "data": {
      "text/html": [
       "<style>marked{background:lightskyblue}</style><h3>Result 3</h3>”<br> And <marked>the</marked> raven, never flitting, still is sitting, still is sitting<br> On <marked>the</marked> pallid bust of Pallas just above my chamber door;<br> And his eyes have all <marked>the</marked> seeming of a demon’s that is dreaming,<br> And <marked>the</marked> lamp-light o’er him streaming throws his shadow on <marked>the</marked> floor;<br> And my soul from out that shadow that lies floating on <marked>the</marked> floor<br>                          Shall be lifted—nevermore!<br>"
      ],
      "text/plain": [
       "<IPython.core.display.HTML object>"
      ]
     },
     "metadata": {},
     "output_type": "display_data"
    },
    {
     "data": {
      "text/html": [
       "<style>marked{background:lightskyblue}</style><h3>Result 4</h3>”<br> This I sat engaged in guessing, but no syllable expressing<br> To <marked>the</marked> fowl whose fiery eyes now burned into my bosom’s core;<br> This and more I sat divining, with my head at ease reclining<br> On <marked>the</marked> cushion’s velvet lining that <marked>the</marked> lamplght gloated o’er,<br> But whose velvet violet lining with <marked>the</marked> lamplight gloating o’er,<br>                          She shall press, ah, nevermore!<br> Then, methought, <marked>the</marked> air grew denser, perfumed from an unseen censer<br> Swung by Angels whose faint foot-falls tinkled on <marked>the</marked> tufted floor"
      ],
      "text/plain": [
       "<IPython.core.display.HTML object>"
      ]
     },
     "metadata": {},
     "output_type": "display_data"
    },
    {
     "data": {
      "text/html": [
       "<style>marked{background:lightskyblue}</style><h3>Result 5</h3>”<br> “Be that word our sign of parting, <marked>bird</marked> or fiend!” I shrieked, upstarting—<br> “Get <marked>the</marked>e back into <marked>the</marked> tempest and <marked>the</marked> Night’s Plutonian shore!<br> Leave no black plume as a token of that lie thy soul hath spoken!<br> Leave my loneliness unbroken!—quit <marked>the</marked> bust above my door!<br> Take thy beak from out my heart, and take thy form from off my door!”<br>                          Quoth <marked>the</marked> raven, “Nevermore"
      ],
      "text/plain": [
       "<IPython.core.display.HTML object>"
      ]
     },
     "metadata": {},
     "output_type": "display_data"
    }
   ],
   "source": [
    "i = 0\n",
    "for idx in search.index[:5]:\n",
    "    i += 1\n",
    "    html = raven[idx] \\\n",
    "            .replace('\\n', '<br>')\n",
    "\n",
    "    for term in terms:\n",
    "        html = html.replace(term, '<marked>' + term +'</marked>')\n",
    "\n",
    "    display(HTML('<style>marked{background:lightskyblue}</style>'\n",
    "                 + '<h3>Result ' + str(i) + '</h3>'\n",
    "                 + html))"
   ]
  }
 ],
 "metadata": {
  "kernelspec": {
   "display_name": "Python 3",
   "language": "python",
   "name": "python3"
  },
  "language_info": {
   "codemirror_mode": {
    "name": "ipython",
    "version": 3
   },
   "file_extension": ".py",
   "mimetype": "text/x-python",
   "name": "python",
   "nbconvert_exporter": "python",
   "pygments_lexer": "ipython3",
   "version": "3.7.3"
  }
 },
 "nbformat": 4,
 "nbformat_minor": 2
}
