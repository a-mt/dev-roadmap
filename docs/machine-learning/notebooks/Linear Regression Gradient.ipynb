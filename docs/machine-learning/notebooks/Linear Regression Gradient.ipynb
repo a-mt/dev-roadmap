{
 "cells": [
  {
   "cell_type": "code",
   "execution_count": 2,
   "metadata": {},
   "outputs": [],
   "source": [
    "import pandas as pd\n",
    "import numpy as np\n",
    "import matplotlib.pyplot as plt"
   ]
  },
  {
   "cell_type": "markdown",
   "metadata": {},
   "source": [
    "## Gradient descent from Scratch"
   ]
  },
  {
   "cell_type": "markdown",
   "metadata": {},
   "source": [
    "### Compute cost"
   ]
  },
  {
   "cell_type": "code",
   "execution_count": 3,
   "metadata": {},
   "outputs": [],
   "source": [
    "def computeCost(X, y, theta):\n",
    "    cost = X.dot(theta) - y\n",
    "    return np.dot(cost,cost) / (2*len(y))"
   ]
  },
  {
   "cell_type": "code",
   "execution_count": 4,
   "metadata": {},
   "outputs": [
    {
     "name": "stdout",
     "output_type": "stream",
     "text": [
      "(3, 1) (3,) (1,)\n"
     ]
    }
   ],
   "source": [
    "X     = np.array([[1],[2],[3]])\n",
    "y     = np.array([1,2,3])\n",
    "\n",
    "print(X.shape, y.shape, np.array([1]).shape)"
   ]
  },
  {
   "cell_type": "code",
   "execution_count": 5,
   "metadata": {},
   "outputs": [
    {
     "name": "stdout",
     "output_type": "stream",
     "text": [
      "0.0\n",
      "0.5833333333333334\n",
      "2.3333333333333335\n"
     ]
    }
   ],
   "source": [
    "print(computeCost(X, y, np.array([1])))\n",
    "print(computeCost(X, y, np.array([.5])))\n",
    "print(computeCost(X, y, np.array([0])))"
   ]
  },
  {
   "cell_type": "markdown",
   "metadata": {},
   "source": [
    "### Gradient descent"
   ]
  },
  {
   "cell_type": "code",
   "execution_count": 6,
   "metadata": {},
   "outputs": [],
   "source": [
    "def gradientDescent(X, y, theta, alpha, epochs):\n",
    "    m = len(y)\n",
    "\n",
    "    for i in range(epochs):\n",
    "        gradient = (X.T.dot(X.dot(theta) - y)) / m\n",
    "        theta   -= alpha * gradient\n",
    "\n",
    "    return theta"
   ]
  },
  {
   "cell_type": "code",
   "execution_count": 7,
   "metadata": {},
   "outputs": [
    {
     "name": "stdout",
     "output_type": "stream",
     "text": [
      "[0.46666667]\n",
      "[0.71555556]\n",
      "[0.8482963]\n",
      "[0.91909136]\n",
      "[0.95684872]\n",
      "[0.97698599]\n",
      "[0.98772586]\n",
      "[0.99345379]\n",
      "[0.99650869]\n",
      "[0.99813797]\n"
     ]
    }
   ],
   "source": [
    "theta = np.array([0.0])\n",
    "\n",
    "for i in range(10):\n",
    "    theta = gradientDescent(X, y, theta, 0.1, 1)\n",
    "    print(theta)"
   ]
  },
  {
   "cell_type": "markdown",
   "metadata": {},
   "source": [
    "### Fit"
   ]
  },
  {
   "cell_type": "code",
   "execution_count": 8,
   "metadata": {},
   "outputs": [
    {
     "name": "stdout",
     "output_type": "stream",
     "text": [
      "(5, 2) (5,) (2,)\n"
     ]
    }
   ],
   "source": [
    "X = np.array([1,2,3,4,5]).reshape(-1,1)\n",
    "Y = np.array([7,9,12,15,16])\n",
    "theta = np.random.rand(2)\n",
    "\n",
    "# Add intercept\n",
    "m  = len(X)\n",
    "b  = np.ones((m,1))\n",
    "Xb = np.concatenate([b, X], axis=1)\n",
    "\n",
    "print(Xb.shape, Y.shape, theta.shape)"
   ]
  },
  {
   "cell_type": "code",
   "execution_count": 9,
   "metadata": {},
   "outputs": [
    {
     "name": "stdout",
     "output_type": "stream",
     "text": [
      "4.599299279395137 2.400194088371456\n"
     ]
    }
   ],
   "source": [
    "# Fit\n",
    "b, a = gradientDescent(Xb, Y, theta=theta, alpha=0.01, epochs=5000)\n",
    "print(b,a)"
   ]
  },
  {
   "cell_type": "markdown",
   "metadata": {},
   "source": [
    "### Plot"
   ]
  },
  {
   "cell_type": "code",
   "execution_count": 10,
   "metadata": {
    "scrolled": true
   },
   "outputs": [
    {
     "data": {
      "text/plain": [
       "[<matplotlib.lines.Line2D at 0x7f6be6c4f080>]"
      ]
     },
     "execution_count": 10,
     "metadata": {},
     "output_type": "execute_result"
    },
    {
     "data": {
      "image/png": "[encoded data removed]",
      "text/plain": [
       "<Figure size 432x288 with 1 Axes>"
      ]
     },
     "metadata": {
      "needs_background": "light"
     },
     "output_type": "display_data"
    }
   ],
   "source": [
    "plt.scatter(X,Y)\n",
    "\n",
    "_X = np.arange(X.min(), X.max()+1, 1)\n",
    "_Y = a*_X+b\n",
    "plt.plot(_X, _Y, '-r')"
   ]
  },
  {
   "cell_type": "markdown",
   "metadata": {},
   "source": [
    "## Using tensorflow"
   ]
  },
  {
   "cell_type": "code",
   "execution_count": 11,
   "metadata": {},
   "outputs": [],
   "source": [
    "import tensorflow as tf"
   ]
  },
  {
   "cell_type": "code",
   "execution_count": 12,
   "metadata": {},
   "outputs": [],
   "source": [
    "model = tf.keras.models.Sequential([\n",
    "    tf.keras.layers.Dense(1, input_shape=(2,),\n",
    "                          activation='linear', use_bias=False)\n",
    "])\n",
    "model.compile(\n",
    "    optimizer='SGD',\n",
    "    loss='mse'\n",
    ")\n",
    "r = model.fit(Xb, Y, epochs=1000, verbose=0)"
   ]
  },
  {
   "cell_type": "code",
   "execution_count": 13,
   "metadata": {},
   "outputs": [
    {
     "data": {
      "text/plain": [
       "[<tf.Variable 'dense/kernel:0' shape=(2, 1) dtype=float32, numpy=\n",
       " array([[4.497686 ],\n",
       "        [2.4283392]], dtype=float32)>]"
      ]
     },
     "execution_count": 13,
     "metadata": {},
     "output_type": "execute_result"
    }
   ],
   "source": [
    "model.weights"
   ]
  },
  {
   "cell_type": "code",
   "execution_count": 14,
   "metadata": {},
   "outputs": [
    {
     "name": "stdout",
     "output_type": "stream",
     "text": [
      "[4.497686] [2.4283392]\n"
     ]
    }
   ],
   "source": [
    "res  = model.weights[0].value().numpy()\n",
    "b, a = res\n",
    "print(b,a)"
   ]
  },
  {
   "cell_type": "code",
   "execution_count": 15,
   "metadata": {},
   "outputs": [
    {
     "data": {
      "text/plain": [
       "[<matplotlib.lines.Line2D at 0x7f6bba0f2828>]"
      ]
     },
     "execution_count": 15,
     "metadata": {},
     "output_type": "execute_result"
    },
    {
     "data": {
      "image/png": "[encoded data removed]",
      "text/plain": [
       "<Figure size 432x288 with 1 Axes>"
      ]
     },
     "metadata": {
      "needs_background": "light"
     },
     "output_type": "display_data"
    }
   ],
   "source": [
    "plt.scatter(X,Y)\n",
    "\n",
    "_X = np.arange(X.min(), X.max()+1, 1)\n",
    "_Y = a[0]*_X+b[0]\n",
    "plt.plot(_X, _Y, '-r')"
   ]
  }
 ],
 "metadata": {
  "kernelspec": {
   "display_name": "Python 3",
   "language": "python",
   "name": "python3"
  },
  "language_info": {
   "codemirror_mode": {
    "name": "ipython",
    "version": 3
   },
   "file_extension": ".py",
   "mimetype": "text/x-python",
   "name": "python",
   "nbconvert_exporter": "python",
   "pygments_lexer": "ipython3",
   "version": "3.7.3"
  }
 },
 "nbformat": 4,
 "nbformat_minor": 2
}
